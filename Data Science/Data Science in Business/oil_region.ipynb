{
 "cells": [
  {
   "cell_type": "markdown",
   "metadata": {},
   "source": [
    "# Data Science in Business. Determination of the most profitable oil production region"
   ]
  },
  {
   "cell_type": "markdown",
   "metadata": {},
   "source": [
    "The purpose of this work is determination the most profitable oil region using machine learning and bootstrap.\n",
    "\n",
    "On assignment, oil samples were provided in three regions. Each region has 10,000 samples, which measured the quality of oil and the volume of reserves. It is required to build a model that will determine the region with the highest profit with risk constraint\n",
    "\n",
    "Process of hole choosing:\n",
    "\n",
    "- There are three regions and we have information about 10,000  holes for each region. We make model for each region that predict reserves for each concrete hole probe.\n",
    "- We try 500 new holes and predict oil reserves for each of them using pre-trained models in the previous paragraph\n",
    "- Based on the results of predictions, we select 200 out of 500 and start developing them\n",
    "- How much it was possible to get, so much earned\n",
    "- We must determinate the most profitable oil production region where 500 holes will be trying. In the selected region the probability of losses must be less than 2.5%."
   ]
  },
  {
   "cell_type": "code",
   "execution_count": 1,
   "metadata": {},
   "outputs": [],
   "source": [
    "from typing import Tuple, List\n",
    "import os\n",
    "from tqdm import tqdm_notebook\n",
    "import multiprocessing as mp\n",
    "import numpy as np\n",
    "from numpy.random import RandomState\n",
    "import pandas as pd\n",
    "from sklearn.model_selection import train_test_split\n",
    "from sklearn.linear_model import LinearRegression\n",
    "from sklearn.metrics import mean_squared_error\n",
    "import matplotlib.pyplot as plt"
   ]
  },
  {
   "cell_type": "markdown",
   "metadata": {
    "tags": []
   },
   "source": [
    "## Data loading and preprocessing"
   ]
  },
  {
   "cell_type": "markdown",
   "metadata": {},
   "source": [
    "Columns description\n",
    "- `id` — unique ID\n",
    "- `f0`, `f1`, `f2` — some features\n",
    "- `product` — oil reserve in thousand of barrels"
   ]
  },
  {
   "cell_type": "code",
   "execution_count": 3,
   "metadata": {},
   "outputs": [
    {
     "name": "stdout",
     "output_type": "stream",
     "text": [
      "<class 'pandas.core.frame.DataFrame'>\n",
      "RangeIndex: 100000 entries, 0 to 99999\n",
      "Data columns (total 5 columns):\n",
      " #   Column   Non-Null Count   Dtype  \n",
      "---  ------   --------------   -----  \n",
      " 0   id       100000 non-null  object \n",
      " 1   f0       100000 non-null  float64\n",
      " 2   f1       100000 non-null  float64\n",
      " 3   f2       100000 non-null  float64\n",
      " 4   product  100000 non-null  float64\n",
      "dtypes: float64(4), object(1)\n",
      "memory usage: 3.8+ MB\n",
      "<class 'pandas.core.frame.DataFrame'>\n",
      "RangeIndex: 100000 entries, 0 to 99999\n",
      "Data columns (total 5 columns):\n",
      " #   Column   Non-Null Count   Dtype  \n",
      "---  ------   --------------   -----  \n",
      " 0   id       100000 non-null  object \n",
      " 1   f0       100000 non-null  float64\n",
      " 2   f1       100000 non-null  float64\n",
      " 3   f2       100000 non-null  float64\n",
      " 4   product  100000 non-null  float64\n",
      "dtypes: float64(4), object(1)\n",
      "memory usage: 3.8+ MB\n",
      "<class 'pandas.core.frame.DataFrame'>\n",
      "RangeIndex: 100000 entries, 0 to 99999\n",
      "Data columns (total 5 columns):\n",
      " #   Column   Non-Null Count   Dtype  \n",
      "---  ------   --------------   -----  \n",
      " 0   id       100000 non-null  object \n",
      " 1   f0       100000 non-null  float64\n",
      " 2   f1       100000 non-null  float64\n",
      " 3   f2       100000 non-null  float64\n",
      " 4   product  100000 non-null  float64\n",
      "dtypes: float64(4), object(1)\n",
      "memory usage: 3.8+ MB\n"
     ]
    }
   ],
   "source": [
    "data_0 = pd.read_csv('datasets/geo_data_0.csv')\n",
    "data_1 = pd.read_csv('datasets/geo_data_1.csv')\n",
    "data_2 = pd.read_csv('datasets/geo_data_2.csv')\n",
    "\n",
    "data_0.info()\n",
    "data_1.info()\n",
    "data_2.info()"
   ]
  },
  {
   "cell_type": "code",
   "execution_count": 4,
   "metadata": {},
   "outputs": [],
   "source": [
    "data_0 = data_0.drop(['id'], axis=1)\n",
    "data_1 = data_1.drop(['id'], axis=1)\n",
    "data_2 = data_2.drop(['id'], axis=1)"
   ]
  },
  {
   "cell_type": "code",
   "execution_count": 5,
   "metadata": {},
   "outputs": [
    {
     "data": {
      "text/html": [
       "<div>\n",
       "<style scoped>\n",
       "    .dataframe tbody tr th:only-of-type {\n",
       "        vertical-align: middle;\n",
       "    }\n",
       "\n",
       "    .dataframe tbody tr th {\n",
       "        vertical-align: top;\n",
       "    }\n",
       "\n",
       "    .dataframe thead th {\n",
       "        text-align: right;\n",
       "    }\n",
       "</style>\n",
       "<table border=\"1\" class=\"dataframe\">\n",
       "  <thead>\n",
       "    <tr style=\"text-align: right;\">\n",
       "      <th></th>\n",
       "      <th>f0</th>\n",
       "      <th>f1</th>\n",
       "      <th>f2</th>\n",
       "      <th>product</th>\n",
       "    </tr>\n",
       "  </thead>\n",
       "  <tbody>\n",
       "    <tr>\n",
       "      <th>count</th>\n",
       "      <td>100000.000000</td>\n",
       "      <td>100000.000000</td>\n",
       "      <td>100000.000000</td>\n",
       "      <td>100000.000000</td>\n",
       "    </tr>\n",
       "    <tr>\n",
       "      <th>mean</th>\n",
       "      <td>0.500419</td>\n",
       "      <td>0.250143</td>\n",
       "      <td>2.502647</td>\n",
       "      <td>92.500000</td>\n",
       "    </tr>\n",
       "    <tr>\n",
       "      <th>std</th>\n",
       "      <td>0.871832</td>\n",
       "      <td>0.504433</td>\n",
       "      <td>3.248248</td>\n",
       "      <td>44.288691</td>\n",
       "    </tr>\n",
       "    <tr>\n",
       "      <th>min</th>\n",
       "      <td>-1.408605</td>\n",
       "      <td>-0.848218</td>\n",
       "      <td>-12.088328</td>\n",
       "      <td>0.000000</td>\n",
       "    </tr>\n",
       "    <tr>\n",
       "      <th>25%</th>\n",
       "      <td>-0.072580</td>\n",
       "      <td>-0.200881</td>\n",
       "      <td>0.287748</td>\n",
       "      <td>56.497507</td>\n",
       "    </tr>\n",
       "    <tr>\n",
       "      <th>50%</th>\n",
       "      <td>0.502360</td>\n",
       "      <td>0.250252</td>\n",
       "      <td>2.515969</td>\n",
       "      <td>91.849972</td>\n",
       "    </tr>\n",
       "    <tr>\n",
       "      <th>75%</th>\n",
       "      <td>1.073581</td>\n",
       "      <td>0.700646</td>\n",
       "      <td>4.715088</td>\n",
       "      <td>128.564089</td>\n",
       "    </tr>\n",
       "    <tr>\n",
       "      <th>max</th>\n",
       "      <td>2.362331</td>\n",
       "      <td>1.343769</td>\n",
       "      <td>16.003790</td>\n",
       "      <td>185.364347</td>\n",
       "    </tr>\n",
       "  </tbody>\n",
       "</table>\n",
       "</div>"
      ],
      "text/plain": [
       "                  f0             f1             f2        product\n",
       "count  100000.000000  100000.000000  100000.000000  100000.000000\n",
       "mean        0.500419       0.250143       2.502647      92.500000\n",
       "std         0.871832       0.504433       3.248248      44.288691\n",
       "min        -1.408605      -0.848218     -12.088328       0.000000\n",
       "25%        -0.072580      -0.200881       0.287748      56.497507\n",
       "50%         0.502360       0.250252       2.515969      91.849972\n",
       "75%         1.073581       0.700646       4.715088     128.564089\n",
       "max         2.362331       1.343769      16.003790     185.364347"
      ]
     },
     "execution_count": 5,
     "metadata": {},
     "output_type": "execute_result"
    }
   ],
   "source": [
    "data_0.describe()"
   ]
  },
  {
   "cell_type": "code",
   "execution_count": 6,
   "metadata": {},
   "outputs": [
    {
     "data": {
      "text/html": [
       "<div>\n",
       "<style scoped>\n",
       "    .dataframe tbody tr th:only-of-type {\n",
       "        vertical-align: middle;\n",
       "    }\n",
       "\n",
       "    .dataframe tbody tr th {\n",
       "        vertical-align: top;\n",
       "    }\n",
       "\n",
       "    .dataframe thead th {\n",
       "        text-align: right;\n",
       "    }\n",
       "</style>\n",
       "<table border=\"1\" class=\"dataframe\">\n",
       "  <thead>\n",
       "    <tr style=\"text-align: right;\">\n",
       "      <th></th>\n",
       "      <th>f0</th>\n",
       "      <th>f1</th>\n",
       "      <th>f2</th>\n",
       "      <th>product</th>\n",
       "    </tr>\n",
       "  </thead>\n",
       "  <tbody>\n",
       "    <tr>\n",
       "      <th>count</th>\n",
       "      <td>100000.000000</td>\n",
       "      <td>100000.000000</td>\n",
       "      <td>100000.000000</td>\n",
       "      <td>100000.000000</td>\n",
       "    </tr>\n",
       "    <tr>\n",
       "      <th>mean</th>\n",
       "      <td>1.141296</td>\n",
       "      <td>-4.796579</td>\n",
       "      <td>2.494541</td>\n",
       "      <td>68.825000</td>\n",
       "    </tr>\n",
       "    <tr>\n",
       "      <th>std</th>\n",
       "      <td>8.965932</td>\n",
       "      <td>5.119872</td>\n",
       "      <td>1.703572</td>\n",
       "      <td>45.944423</td>\n",
       "    </tr>\n",
       "    <tr>\n",
       "      <th>min</th>\n",
       "      <td>-31.609576</td>\n",
       "      <td>-26.358598</td>\n",
       "      <td>-0.018144</td>\n",
       "      <td>0.000000</td>\n",
       "    </tr>\n",
       "    <tr>\n",
       "      <th>25%</th>\n",
       "      <td>-6.298551</td>\n",
       "      <td>-8.267985</td>\n",
       "      <td>1.000021</td>\n",
       "      <td>26.953261</td>\n",
       "    </tr>\n",
       "    <tr>\n",
       "      <th>50%</th>\n",
       "      <td>1.153055</td>\n",
       "      <td>-4.813172</td>\n",
       "      <td>2.011479</td>\n",
       "      <td>57.085625</td>\n",
       "    </tr>\n",
       "    <tr>\n",
       "      <th>75%</th>\n",
       "      <td>8.621015</td>\n",
       "      <td>-1.332816</td>\n",
       "      <td>3.999904</td>\n",
       "      <td>107.813044</td>\n",
       "    </tr>\n",
       "    <tr>\n",
       "      <th>max</th>\n",
       "      <td>29.421755</td>\n",
       "      <td>18.734063</td>\n",
       "      <td>5.019721</td>\n",
       "      <td>137.945408</td>\n",
       "    </tr>\n",
       "  </tbody>\n",
       "</table>\n",
       "</div>"
      ],
      "text/plain": [
       "                  f0             f1             f2        product\n",
       "count  100000.000000  100000.000000  100000.000000  100000.000000\n",
       "mean        1.141296      -4.796579       2.494541      68.825000\n",
       "std         8.965932       5.119872       1.703572      45.944423\n",
       "min       -31.609576     -26.358598      -0.018144       0.000000\n",
       "25%        -6.298551      -8.267985       1.000021      26.953261\n",
       "50%         1.153055      -4.813172       2.011479      57.085625\n",
       "75%         8.621015      -1.332816       3.999904     107.813044\n",
       "max        29.421755      18.734063       5.019721     137.945408"
      ]
     },
     "execution_count": 6,
     "metadata": {},
     "output_type": "execute_result"
    }
   ],
   "source": [
    "data_1.describe()"
   ]
  },
  {
   "cell_type": "code",
   "execution_count": 7,
   "metadata": {},
   "outputs": [
    {
     "data": {
      "text/html": [
       "<div>\n",
       "<style scoped>\n",
       "    .dataframe tbody tr th:only-of-type {\n",
       "        vertical-align: middle;\n",
       "    }\n",
       "\n",
       "    .dataframe tbody tr th {\n",
       "        vertical-align: top;\n",
       "    }\n",
       "\n",
       "    .dataframe thead th {\n",
       "        text-align: right;\n",
       "    }\n",
       "</style>\n",
       "<table border=\"1\" class=\"dataframe\">\n",
       "  <thead>\n",
       "    <tr style=\"text-align: right;\">\n",
       "      <th></th>\n",
       "      <th>f0</th>\n",
       "      <th>f1</th>\n",
       "      <th>f2</th>\n",
       "      <th>product</th>\n",
       "    </tr>\n",
       "  </thead>\n",
       "  <tbody>\n",
       "    <tr>\n",
       "      <th>count</th>\n",
       "      <td>100000.000000</td>\n",
       "      <td>100000.000000</td>\n",
       "      <td>100000.000000</td>\n",
       "      <td>100000.000000</td>\n",
       "    </tr>\n",
       "    <tr>\n",
       "      <th>mean</th>\n",
       "      <td>0.002023</td>\n",
       "      <td>-0.002081</td>\n",
       "      <td>2.495128</td>\n",
       "      <td>95.000000</td>\n",
       "    </tr>\n",
       "    <tr>\n",
       "      <th>std</th>\n",
       "      <td>1.732045</td>\n",
       "      <td>1.730417</td>\n",
       "      <td>3.473445</td>\n",
       "      <td>44.749921</td>\n",
       "    </tr>\n",
       "    <tr>\n",
       "      <th>min</th>\n",
       "      <td>-8.760004</td>\n",
       "      <td>-7.084020</td>\n",
       "      <td>-11.970335</td>\n",
       "      <td>0.000000</td>\n",
       "    </tr>\n",
       "    <tr>\n",
       "      <th>25%</th>\n",
       "      <td>-1.162288</td>\n",
       "      <td>-1.174820</td>\n",
       "      <td>0.130359</td>\n",
       "      <td>59.450441</td>\n",
       "    </tr>\n",
       "    <tr>\n",
       "      <th>50%</th>\n",
       "      <td>0.009424</td>\n",
       "      <td>-0.009482</td>\n",
       "      <td>2.484236</td>\n",
       "      <td>94.925613</td>\n",
       "    </tr>\n",
       "    <tr>\n",
       "      <th>75%</th>\n",
       "      <td>1.158535</td>\n",
       "      <td>1.163678</td>\n",
       "      <td>4.858794</td>\n",
       "      <td>130.595027</td>\n",
       "    </tr>\n",
       "    <tr>\n",
       "      <th>max</th>\n",
       "      <td>7.238262</td>\n",
       "      <td>7.844801</td>\n",
       "      <td>16.739402</td>\n",
       "      <td>190.029838</td>\n",
       "    </tr>\n",
       "  </tbody>\n",
       "</table>\n",
       "</div>"
      ],
      "text/plain": [
       "                  f0             f1             f2        product\n",
       "count  100000.000000  100000.000000  100000.000000  100000.000000\n",
       "mean        0.002023      -0.002081       2.495128      95.000000\n",
       "std         1.732045       1.730417       3.473445      44.749921\n",
       "min        -8.760004      -7.084020     -11.970335       0.000000\n",
       "25%        -1.162288      -1.174820       0.130359      59.450441\n",
       "50%         0.009424      -0.009482       2.484236      94.925613\n",
       "75%         1.158535       1.163678       4.858794     130.595027\n",
       "max         7.238262       7.844801      16.739402     190.029838"
      ]
     },
     "execution_count": 7,
     "metadata": {},
     "output_type": "execute_result"
    }
   ],
   "source": [
    "data_2.describe()"
   ]
  },
  {
   "cell_type": "markdown",
   "metadata": {},
   "source": [
    "**Resume**\n",
    "- data loaded\n",
    "- there are no passes and outliers\n",
    "- id column was dropped\n",
    "- mean product values for `region 0` and `2` higher than for `region 1`"
   ]
  },
  {
   "cell_type": "markdown",
   "metadata": {},
   "source": [
    "## Modeling"
   ]
  },
  {
   "cell_type": "code",
   "execution_count": 8,
   "metadata": {},
   "outputs": [],
   "source": [
    "RANDOM_STATE = 137"
   ]
  },
  {
   "cell_type": "code",
   "execution_count": 9,
   "metadata": {},
   "outputs": [],
   "source": [
    "# model training and generating predictions\n",
    "def oil_model(data):\n",
    "    data_f = data.drop(['product'], axis=1)\n",
    "    data_t = data['product']\n",
    "    train_f, valid_f, train_t, valid_t = train_test_split(data_f, data_t, train_size=0.75, random_state=RANDOM_STATE)\n",
    "\n",
    "    # we use LR because it model is suitable in our case\n",
    "    model = LinearRegression()\n",
    "    model.fit(train_f, train_t)\n",
    "\n",
    "    valid_f = valid_f.reset_index(drop=True)\n",
    "    valid_t = valid_t.reset_index(drop=True)\n",
    "\n",
    "    df = pd.DataFrame()\n",
    "    df['product'] = valid_t\n",
    "    df['predicted'] = model.predict(valid_f)\n",
    "    \n",
    "    return df"
   ]
  },
  {
   "cell_type": "code",
   "execution_count": 10,
   "metadata": {},
   "outputs": [],
   "source": [
    "# metrics calculation\n",
    "def get_metrics(df):\n",
    "    return [mean_squared_error(df['product'], df['predicted'], squared=False),\\\n",
    "            df['predicted'].mean(),\\\n",
    "            df['product'].std(),\\\n",
    "            df['product'].mean()]"
   ]
  },
  {
   "cell_type": "code",
   "execution_count": 11,
   "metadata": {},
   "outputs": [
    {
     "data": {
      "text/html": [
       "<style  type=\"text/css\" >\n",
       "</style><table id=\"T_ccbec_\" ><thead>    <tr>        <th class=\"blank level0\" ></th>        <th class=\"col_heading level0 col0\" >rmse</th>        <th class=\"col_heading level0 col1\" >predicted_mean</th>        <th class=\"col_heading level0 col2\" >product_std</th>        <th class=\"col_heading level0 col3\" >product_mean</th>    </tr></thead><tbody>\n",
       "                <tr>\n",
       "                        <th id=\"T_ccbec_level0_row0\" class=\"row_heading level0 row0\" >Region 0</th>\n",
       "                        <td id=\"T_ccbec_row0_col0\" class=\"data row0 col0\" >37.79</td>\n",
       "                        <td id=\"T_ccbec_row0_col1\" class=\"data row0 col1\" >92.44</td>\n",
       "                        <td id=\"T_ccbec_row0_col2\" class=\"data row0 col2\" >44.42</td>\n",
       "                        <td id=\"T_ccbec_row0_col3\" class=\"data row0 col3\" >92.24</td>\n",
       "            </tr>\n",
       "            <tr>\n",
       "                        <th id=\"T_ccbec_level0_row1\" class=\"row_heading level0 row1\" >Region 1</th>\n",
       "                        <td id=\"T_ccbec_row1_col0\" class=\"data row1 col0\" >0.89</td>\n",
       "                        <td id=\"T_ccbec_row1_col1\" class=\"data row1 col1\" >69.06</td>\n",
       "                        <td id=\"T_ccbec_row1_col2\" class=\"data row1 col2\" >45.93</td>\n",
       "                        <td id=\"T_ccbec_row1_col3\" class=\"data row1 col3\" >69.07</td>\n",
       "            </tr>\n",
       "            <tr>\n",
       "                        <th id=\"T_ccbec_level0_row2\" class=\"row_heading level0 row2\" >Region 2</th>\n",
       "                        <td id=\"T_ccbec_row2_col0\" class=\"data row2 col0\" >40.12</td>\n",
       "                        <td id=\"T_ccbec_row2_col1\" class=\"data row2 col1\" >95.09</td>\n",
       "                        <td id=\"T_ccbec_row2_col2\" class=\"data row2 col2\" >44.73</td>\n",
       "                        <td id=\"T_ccbec_row2_col3\" class=\"data row2 col3\" >94.62</td>\n",
       "            </tr>\n",
       "    </tbody></table>"
      ],
      "text/plain": [
       "<pandas.io.formats.style.Styler at 0x7fc71ef1bd30>"
      ]
     },
     "execution_count": 11,
     "metadata": {},
     "output_type": "execute_result"
    }
   ],
   "source": [
    "# save all to df\n",
    "df = []\n",
    "stat = pd.DataFrame(columns=['rmse', 'predicted_mean', 'product_std', 'product_mean'])\n",
    "\n",
    "df.append(oil_model(data_0))\n",
    "stat.loc['Region 0'] = get_metrics(df[0])\n",
    "\n",
    "df.append(oil_model(data_1))\n",
    "stat.loc['Region 1'] = get_metrics(df[1])\n",
    "\n",
    "df.append(oil_model(data_2))\n",
    "stat.loc['Region 2'] = get_metrics(df[2])\n",
    "\n",
    "stat.style.format(\"{:,.2f}\")"
   ]
  },
  {
   "cell_type": "markdown",
   "metadata": {},
   "source": [
    "**Resume**\n",
    "- all models are trained\n",
    "- for r`egions 0 `and `2` (that have higher mean values) we have less accurate models. However for `region 1` we have more accurate model\n",
    "- more accurate model can help us to select more profitable 200 holes in 500 probes"
   ]
  },
  {
   "cell_type": "markdown",
   "metadata": {
    "tags": []
   },
   "source": [
    "## Profit and Risk Calculation"
   ]
  },
  {
   "cell_type": "code",
   "execution_count": 34,
   "metadata": {},
   "outputs": [],
   "source": [
    "BUDGET = 10e9  \n",
    "HOLES_COUNT = 200\n",
    "SAMPLES_COUNT = 500\n",
    "PRICE = 450e3\n",
    "BOOTSTRAP_COUNT = 1000"
   ]
  },
  {
   "cell_type": "markdown",
   "metadata": {},
   "source": [
    "Let us calculate the sufficient volume of raw materials for the break-even development of a new hole."
   ]
  },
  {
   "cell_type": "code",
   "execution_count": 13,
   "metadata": {},
   "outputs": [
    {
     "name": "stdout",
     "output_type": "stream",
     "text": [
      "Average sufficient reserve in the hole for break-even production = 111.11111111111111\n"
     ]
    }
   ],
   "source": [
    "print('Average sufficient reserve in the hole for break-even production =', BUDGET/HOLES_COUNT/PRICE)"
   ]
  },
  {
   "cell_type": "markdown",
   "metadata": {},
   "source": [
    "Compare the received volume of raw materials with the average stock in each region"
   ]
  },
  {
   "cell_type": "code",
   "execution_count": 14,
   "metadata": {},
   "outputs": [
    {
     "data": {
      "text/plain": [
       "Region 0    92.238651\n",
       "Region 1    69.065290\n",
       "Region 2    94.618927\n",
       "Name: product_mean, dtype: float64"
      ]
     },
     "execution_count": 14,
     "metadata": {},
     "output_type": "execute_result"
    }
   ],
   "source": [
    "stat['product_mean']"
   ]
  },
  {
   "cell_type": "markdown",
   "metadata": {},
   "source": [
    "So, average stock in each region is less than average sufficient reserve in the hole for break-even production. Therefore we must use predictions and risk analyst"
   ]
  },
  {
   "cell_type": "markdown",
   "metadata": {},
   "source": [
    "**Profit and Risk Calculation**\n",
    "\n",
    "We will use Pandas sampling for bootstrap because we don't have a lot of data and we need to sample exactly SAMPLES_COUNT holes. In big data Poisson Bootstrap is preferable because it's more faster."
   ]
  },
  {
   "cell_type": "code",
   "execution_count": 37,
   "metadata": {},
   "outputs": [],
   "source": [
    "def calc_profit(products):\n",
    "    return products.sum() * PRICE - BUDGET"
   ]
  },
  {
   "cell_type": "code",
   "execution_count": 38,
   "metadata": {},
   "outputs": [
    {
     "data": {
      "text/html": [
       "<div>\n",
       "<style scoped>\n",
       "    .dataframe tbody tr th:only-of-type {\n",
       "        vertical-align: middle;\n",
       "    }\n",
       "\n",
       "    .dataframe tbody tr th {\n",
       "        vertical-align: top;\n",
       "    }\n",
       "\n",
       "    .dataframe thead th {\n",
       "        text-align: right;\n",
       "    }\n",
       "</style>\n",
       "<table border=\"1\" class=\"dataframe\">\n",
       "  <thead>\n",
       "    <tr style=\"text-align: right;\">\n",
       "      <th></th>\n",
       "      <th>region_0</th>\n",
       "      <th>region_1</th>\n",
       "      <th>region_2</th>\n",
       "    </tr>\n",
       "  </thead>\n",
       "  <tbody>\n",
       "    <tr>\n",
       "      <th>0</th>\n",
       "      <td>3.546994e+08</td>\n",
       "      <td>6.760416e+08</td>\n",
       "      <td>3.650766e+08</td>\n",
       "    </tr>\n",
       "    <tr>\n",
       "      <th>1</th>\n",
       "      <td>3.800487e+08</td>\n",
       "      <td>1.816151e+08</td>\n",
       "      <td>3.808578e+08</td>\n",
       "    </tr>\n",
       "    <tr>\n",
       "      <th>2</th>\n",
       "      <td>5.069041e+08</td>\n",
       "      <td>4.162951e+08</td>\n",
       "      <td>-2.007662e+08</td>\n",
       "    </tr>\n",
       "    <tr>\n",
       "      <th>3</th>\n",
       "      <td>5.129528e+08</td>\n",
       "      <td>4.727103e+08</td>\n",
       "      <td>3.469460e+08</td>\n",
       "    </tr>\n",
       "    <tr>\n",
       "      <th>4</th>\n",
       "      <td>2.350900e+08</td>\n",
       "      <td>4.727103e+08</td>\n",
       "      <td>1.763777e+08</td>\n",
       "    </tr>\n",
       "  </tbody>\n",
       "</table>\n",
       "</div>"
      ],
      "text/plain": [
       "       region_0      region_1      region_2\n",
       "0  3.546994e+08  6.760416e+08  3.650766e+08\n",
       "1  3.800487e+08  1.816151e+08  3.808578e+08\n",
       "2  5.069041e+08  4.162951e+08 -2.007662e+08\n",
       "3  5.129528e+08  4.727103e+08  3.469460e+08\n",
       "4  2.350900e+08  4.727103e+08  1.763777e+08"
      ]
     },
     "execution_count": 38,
     "metadata": {},
     "output_type": "execute_result"
    }
   ],
   "source": [
    "state = RandomState(RANDOM_STATE) \n",
    "profits = pd.DataFrame(columns=['region_0', 'region_1', 'region_2'])\n",
    "\n",
    "for i in range(BOOTSTRAP_COUNT):\n",
    "    \n",
    "    profit_by_region = []\n",
    "    for region in range(3):\n",
    "        samples = df[region].sample(SAMPLES_COUNT, random_state=state)\n",
    "        holes = samples.sort_values('predicted', ascending=False).head(HOLES_COUNT)\n",
    "        profit = calc_profit(holes['product'])\n",
    "        profit_by_region.append(profit)\n",
    "      \n",
    "    profits = profits.append({'region_0':profit_by_region[0], 'region_1':profit_by_region[1], \n",
    "                              'region_2':profit_by_region[2]}, ignore_index=True)\n",
    "    \n",
    "profits.head()"
   ]
  },
  {
   "cell_type": "code",
   "execution_count": 39,
   "metadata": {},
   "outputs": [
    {
     "data": {
      "image/png": "[encoded data removed]",
      "text/plain": [
       "<Figure size 648x360 with 1 Axes>"
      ]
     },
     "metadata": {
      "needs_background": "light"
     },
     "output_type": "display_data"
    }
   ],
   "source": [
    "ax = profits['region_0'].plot(kind='hist', bins=25, alpha=0.6, legend=True, \\\n",
    "                              title='Profit hist by region', figsize=(9,5), xlabel='Profit, rub')\n",
    "ax = profits['region_1'].plot(kind='hist', bins=25, ax=ax, alpha=0.6, legend=True)\n",
    "ax = profits['region_2'].plot(kind='hist', bins=25, ax=ax, alpha=0.6, legend=True)\n",
    "ax.set_xlabel(\"Profit in rub\");"
   ]
  },
  {
   "cell_type": "code",
   "execution_count": 44,
   "metadata": {},
   "outputs": [],
   "source": [
    "class Quantile:\n",
    "    def __init__(self, q):\n",
    "        self.q = q\n",
    "        \n",
    "    def __call__(self, x):\n",
    "        return x.quantile(self.q)\n",
    "\n",
    "class OilLoss:\n",
    "    def __call__(self, x):\n",
    "        return 100.0 * (x<0).mean()\n"
   ]
  },
  {
   "cell_type": "code",
   "execution_count": 45,
   "metadata": {},
   "outputs": [
    {
     "data": {
      "text/html": [
       "<style  type=\"text/css\" >\n",
       "</style><table id=\"T_a08a9_\" ><thead>    <tr>        <th class=\"blank level0\" ></th>        <th class=\"col_heading level0 col0\" >profit mean</th>        <th class=\"col_heading level0 col1\" >profit Q=0.025</th>        <th class=\"col_heading level0 col2\" >profit Q=0.975</th>        <th class=\"col_heading level0 col3\" >losses percent</th>    </tr></thead><tbody>\n",
       "                <tr>\n",
       "                        <th id=\"T_a08a9_level0_row0\" class=\"row_heading level0 row0\" >region_0</th>\n",
       "                        <td id=\"T_a08a9_row0_col0\" class=\"data row0 col0\" >427.11</td>\n",
       "                        <td id=\"T_a08a9_row0_col1\" class=\"data row0 col1\" >-90.08</td>\n",
       "                        <td id=\"T_a08a9_row0_col2\" class=\"data row0 col2\" >903.55</td>\n",
       "                        <td id=\"T_a08a9_row0_col3\" class=\"data row0 col3\" >4.40</td>\n",
       "            </tr>\n",
       "            <tr>\n",
       "                        <th id=\"T_a08a9_level0_row1\" class=\"row_heading level0 row1\" >region_1</th>\n",
       "                        <td id=\"T_a08a9_row1_col0\" class=\"data row1 col0\" >462.84</td>\n",
       "                        <td id=\"T_a08a9_row1_col1\" class=\"data row1 col1\" >76.65</td>\n",
       "                        <td id=\"T_a08a9_row1_col2\" class=\"data row1 col2\" >849.39</td>\n",
       "                        <td id=\"T_a08a9_row1_col3\" class=\"data row1 col3\" >0.80</td>\n",
       "            </tr>\n",
       "            <tr>\n",
       "                        <th id=\"T_a08a9_level0_row2\" class=\"row_heading level0 row2\" >region_2</th>\n",
       "                        <td id=\"T_a08a9_row2_col0\" class=\"data row2 col0\" >300.00</td>\n",
       "                        <td id=\"T_a08a9_row2_col1\" class=\"data row2 col1\" >-223.71</td>\n",
       "                        <td id=\"T_a08a9_row2_col2\" class=\"data row2 col2\" >820.01</td>\n",
       "                        <td id=\"T_a08a9_row2_col3\" class=\"data row2 col3\" >13.30</td>\n",
       "            </tr>\n",
       "    </tbody></table>"
      ],
      "text/plain": [
       "<pandas.io.formats.style.Styler at 0x7fc722afe9a0>"
      ]
     },
     "execution_count": 45,
     "metadata": {},
     "output_type": "execute_result"
    }
   ],
   "source": [
    "x = (profits / 1e6).agg(['mean', Quantile(0.025), Quantile(0.975), OilLoss()]).transpose()\n",
    "x.columns = ['profit mean', 'profit Q=0.025', 'profit Q=0.975', 'losses percent']\n",
    "x.style.format(\"{:,.2f}\")"
   ]
  },
  {
   "cell_type": "markdown",
   "metadata": {},
   "source": [
    "### Resume\n",
    "- Profit and risk analysis is made for earch region.\n",
    "- Region 1 has greatest profit and least losses because it region has madel with better prediction quality"
   ]
  },
  {
   "cell_type": "markdown",
   "metadata": {},
   "source": [
    "## Conclusion\n",
    "\n",
    "**Prepared and tested model**\n",
    "- a prediction model has been prepared for each region\n",
    "- for each region, data were prepared with a comparison of predicted values ​​and true values ​​for the validation sample\n",
    "- note that for \"Region 1\" the model predicts quite accurately. But for the other two, it is quite wrong. Comparison with models on a different structure concluded that in these regions the data are poorly predictable and this is a feature of the problem\n",
    "\n",
    "**Preliminary calculation of profit has been made**\n",
    "- the average reserve in wells is less than the average reserve for break-even production\n",
    "- thus, the right choice is said to be a very important process\n",
    "- note that in \"region 1\" the average stock is much less, but the prediction is much more accurate\n",
    "- written and tested profit calculation function\n",
    "\n",
    "**Profit and risk analysis performed**\n",
    "- for each region, the average revenue, the confidence interval of revenue, and the probability of unprofitable development are determined\n",
    "- region 1 turned out to be profitable due to good predictability (if you do not do a stat analysis, then the average production in it is the lowest, and in the most unprofitable one, on the contrary, the average production is the highest)\n",
    "\n",
    "**Recommend area for development**\n",
    "<br>\n",
    "Region 1 is preferred for development:\n",
    "- the risks are much less than others\n",
    "- average profit is higher than others"
   ]
  }
 ],
 "metadata": {
  "kernelspec": {
   "display_name": "Python 3 (ipykernel)",
   "language": "python",
   "name": "python3"
  },
  "language_info": {
   "codemirror_mode": {
    "name": "ipython",
    "version": 3
   },
   "file_extension": ".py",
   "mimetype": "text/x-python",
   "name": "python",
   "nbconvert_exporter": "python",
   "pygments_lexer": "ipython3",
   "version": "3.9.7"
  },
  "toc": {
   "base_numbering": 1,
   "nav_menu": {},
   "number_sections": true,
   "sideBar": true,
   "skip_h1_title": true,
   "title_cell": "Table of Contents",
   "title_sidebar": "Contents",
   "toc_cell": false,
   "toc_position": {},
   "toc_section_display": true,
   "toc_window_display": false
  }
 },
 "nbformat": 4,
 "nbformat_minor": 4
}
