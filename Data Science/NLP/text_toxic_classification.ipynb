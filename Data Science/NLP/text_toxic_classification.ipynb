{
 "cells": [
  {
   "cell_type": "markdown",
   "metadata": {},
   "source": [
    "# NLP classification with BERT"
   ]
  },
  {
   "attachments": {},
   "cell_type": "markdown",
   "metadata": {},
   "source": [
    "## TOC:\n",
    "* [Preparing](#preprocess)\n",
    "* [Feature engineering](#features)\n",
    "    * [Basic preprocessing](#basic)\n",
    "    * [Implicit duplicates](#duplicates)\n",
    "* [Exploratory Data Analysis](#eda)\n",
    "    * [Class imbalance](#imbalance)\n",
    "    * [Frequency analysis](#freq)\n",
    "    * [Keywords discovery](#keywords)\n",
    "        * [KeyBERT library](#keybert)\n",
    "        * [Create custom analysis](#custom)\n",
    "    * [Text length](#len)\n",
    "* [Modeling](#model)\n",
    "    * [Struggle with imbalance](#model-imbalance)\n",
    "    * [Model based on keywords](#model-keywords)\n",
    "    * [Logistic regression base frequency features](#lr)\n",
    "    * [RF, LGBM, XGB...](#boost)\n",
    "    * [CatBoost](#catboost)\n",
    "    * [BERT embeddings](#bertemb)\n",
    "    * [TNSE embedding visualization](#tnse)\n",
    "    * [Universal sentence encoder](#use)\n",
    "    * [BERT with fine tuning](#bert-fine)\n",
    "    * [Ensambling](#ensambling)\n",
    "    * [Consulation](#model-consulation)\n",
    "* [Testing](#test)\n",
    "* [Consulation](#consulation)"
   ]
  },
  {
   "cell_type": "markdown",
   "metadata": {},
   "source": [
    "Needs a tool that will look for toxic comments and submit them for moderation. Labeled dataset is provided. Target metric is F1 must be more then 0.75\n",
    "\n",
    "We tried several models for comparison (TS-IDF, BERT, USE, e.t.c). We will use local machine and Colab for training."
   ]
  },
  {
   "cell_type": "code",
   "execution_count": 1,
   "metadata": {},
   "outputs": [],
   "source": [
    "# pip install pymystem3"
   ]
  },
  {
   "cell_type": "code",
   "execution_count": 2,
   "metadata": {},
   "outputs": [],
   "source": [
    "# pip install spacy"
   ]
  },
  {
   "cell_type": "code",
   "execution_count": 3,
   "metadata": {},
   "outputs": [],
   "source": [
    "# !spacy download en"
   ]
  },
  {
   "cell_type": "code",
   "execution_count": 4,
   "metadata": {},
   "outputs": [],
   "source": [
    "# pip install swifter"
   ]
  },
  {
   "cell_type": "code",
   "execution_count": 5,
   "metadata": {},
   "outputs": [],
   "source": [
    "# pip install keybert"
   ]
  },
  {
   "cell_type": "code",
   "execution_count": 6,
   "metadata": {},
   "outputs": [],
   "source": [
    "# pip install -U imbalanced-learn"
   ]
  },
  {
   "cell_type": "code",
   "execution_count": 7,
   "metadata": {},
   "outputs": [],
   "source": [
    "# pip install --upgrade tensorflow-hub"
   ]
  },
  {
   "cell_type": "code",
   "execution_count": 8,
   "metadata": {},
   "outputs": [],
   "source": [
    "# pip install lightgbm"
   ]
  },
  {
   "cell_type": "code",
   "execution_count": 9,
   "metadata": {},
   "outputs": [],
   "source": [
    "# pip install catboost"
   ]
  },
  {
   "cell_type": "code",
   "execution_count": 10,
   "metadata": {},
   "outputs": [],
   "source": [
    "import pandas as pd\n",
    "import numpy as np\n",
    "import re\n",
    "import string\n",
    "import matplotlib.pyplot as plt\n",
    "\n",
    "from tqdm import notebook\n",
    "from sklearn.feature_extraction.text import TfidfVectorizer, CountVectorizer\n",
    "from sklearn.model_selection import train_test_split\n",
    "from sklearn.metrics import f1_score, classification_report\n",
    "from sklearn.dummy import DummyClassifier\n",
    "from sklearn.linear_model import LogisticRegression\n",
    "from sklearn.pipeline import Pipeline\n",
    "from sklearn.ensemble import RandomForestClassifier\n",
    "from sklearn.tree import DecisionTreeClassifier\n",
    "import imblearn as ib\n",
    "from imblearn.over_sampling import RandomOverSampler\n",
    "from imblearn.under_sampling import RandomUnderSampler\n",
    "from wordcloud import WordCloud\n",
    "import lightgbm as lgb\n",
    "from catboost import CatBoostClassifier\n",
    "import torch\n",
    "import transformers\n",
    "import tensorflow as tf\n",
    "import tensorflow_hub as hub\n",
    "import swifter\n",
    "from pymystem3 import Mystem\n",
    "import nltk\n",
    "from nltk.corpus import stopwords\n",
    "import spacy\n",
    "from keybert import KeyBERT"
   ]
  },
  {
   "cell_type": "code",
   "execution_count": 11,
   "metadata": {},
   "outputs": [
    {
     "data": {
      "text/plain": [
       "'2.7.0'"
      ]
     },
     "execution_count": 11,
     "metadata": {},
     "output_type": "execute_result"
    }
   ],
   "source": [
    "tf.__version__"
   ]
  },
  {
   "cell_type": "code",
   "execution_count": 53,
   "metadata": {},
   "outputs": [],
   "source": [
    "RANDOM_STATE = 17"
   ]
  },
  {
   "attachments": {},
   "cell_type": "markdown",
   "metadata": {},
   "source": [
    "## Preparing <a class=\"anchor\" id=\"preprocess\"></a>\n",
    "Load and revire the dataset"
   ]
  },
  {
   "cell_type": "code",
   "execution_count": 12,
   "metadata": {},
   "outputs": [
    {
     "name": "stdout",
     "output_type": "stream",
     "text": [
      "<class 'pandas.core.frame.DataFrame'>\n",
      "RangeIndex: 159292 entries, 0 to 159291\n",
      "Data columns (total 3 columns):\n",
      " #   Column      Non-Null Count   Dtype \n",
      "---  ------      --------------   ----- \n",
      " 0   Unnamed: 0  159292 non-null  int64 \n",
      " 1   text        159292 non-null  object\n",
      " 2   toxic       159292 non-null  int64 \n",
      "dtypes: int64(2), object(1)\n",
      "memory usage: 3.6+ MB\n"
     ]
    }
   ],
   "source": [
    "try:\n",
    "    data = pd.read_csv('datasets/toxic_comments.csv')\n",
    "except:\n",
    "    data = pd.read_csv('/datasets/toxic_comments.csv')\n",
    "\n",
    "data.info()"
   ]
  },
  {
   "cell_type": "code",
   "execution_count": 13,
   "metadata": {},
   "outputs": [
    {
     "data": {
      "text/html": [
       "<div>\n",
       "<style scoped>\n",
       "    .dataframe tbody tr th:only-of-type {\n",
       "        vertical-align: middle;\n",
       "    }\n",
       "\n",
       "    .dataframe tbody tr th {\n",
       "        vertical-align: top;\n",
       "    }\n",
       "\n",
       "    .dataframe thead th {\n",
       "        text-align: right;\n",
       "    }\n",
       "</style>\n",
       "<table border=\"1\" class=\"dataframe\">\n",
       "  <thead>\n",
       "    <tr style=\"text-align: right;\">\n",
       "      <th></th>\n",
       "      <th>Unnamed: 0</th>\n",
       "      <th>text</th>\n",
       "      <th>toxic</th>\n",
       "    </tr>\n",
       "  </thead>\n",
       "  <tbody>\n",
       "    <tr>\n",
       "      <th>106118</th>\n",
       "      <td>106215</td>\n",
       "      <td>\"\\n\\nI seem to have been blocked without fair warning. The \"\"warning\"\" came at 1:30am UTC, the \"\"block\"\" came at 1:48 UTC. In between these times I made exactly zero (0) contributions.\\n\\nThe \"\"vandalizing\"\" is likely a personal vendetta that user Megaman Zero has against me, for reverting a content-deleting edit of his. For details please check the Wikipedia history for  \\n\\nAside from that, ...</td>\n",
       "      <td>0</td>\n",
       "    </tr>\n",
       "    <tr>\n",
       "      <th>79169</th>\n",
       "      <td>79245</td>\n",
       "      <td>\"\\n\\nPlease remove your focus from me.  Your bizarre fascination with me is disturbing.  Whenever you are ready to end this conversation, simply stop posting about me.  Thanks in advance. - Sinneed \\nIf you don't want to talk with me here, remove this mention of me.  I accept it as an invitation to comment.- Sinneed \\nOr, I would be content if you simply leave my response in.  But I will have ...</td>\n",
       "      <td>0</td>\n",
       "    </tr>\n",
       "    <tr>\n",
       "      <th>147655</th>\n",
       "      <td>147811</td>\n",
       "      <td>Ok, I got it that not all gay mean speak this way \\n\\nBut is it really necessary to have 50% of the article stating that this is a stereotype and that some (BUT NOT ALL!) homosexuals speak this way?</td>\n",
       "      <td>0</td>\n",
       "    </tr>\n",
       "    <tr>\n",
       "      <th>142524</th>\n",
       "      <td>142677</td>\n",
       "      <td>Info\\nRelated to Date and place of birth would be welocme.</td>\n",
       "      <td>0</td>\n",
       "    </tr>\n",
       "    <tr>\n",
       "      <th>101466</th>\n",
       "      <td>101563</td>\n",
       "      <td>BABAK \\n\\nBabak himself would have laughed at your comment, Babak was an IRANIAN, His name is purely\\nIranian, and he was an Azari, an azari is part of the median (Iranian) tribe.</td>\n",
       "      <td>0</td>\n",
       "    </tr>\n",
       "    <tr>\n",
       "      <th>3780</th>\n",
       "      <td>3780</td>\n",
       "      <td>Yes sir i am.   i have not reverted anything.  I change it once with the highlighted and then when it was changed back i left it alone.  I dont wish to disrespect any one or any religion.</td>\n",
       "      <td>0</td>\n",
       "    </tr>\n",
       "    <tr>\n",
       "      <th>40253</th>\n",
       "      <td>40303</td>\n",
       "      <td>Category:Philosophical literature by era\\n\\n:Category:Philosophical literature by era, which you created, has been nominated for discussion. If you would like to participate in the discussion, you are invited to add your comments at the category's entry on the Categories for discussion page. Thank you.</td>\n",
       "      <td>0</td>\n",
       "    </tr>\n",
       "    <tr>\n",
       "      <th>18120</th>\n",
       "      <td>18137</td>\n",
       "      <td>, 7 July 2011 (UTC)\\n\\nYou are just trolling. Back off. -   23:26</td>\n",
       "      <td>0</td>\n",
       "    </tr>\n",
       "    <tr>\n",
       "      <th>86291</th>\n",
       "      <td>86372</td>\n",
       "      <td>\"\\n\\nYour welcome and thanks, Seaphoto, and I've done new page patrolling. I'm trying to make an article for a DYK by using it in my user page before moving it to the public. I glad to see you're still Huggling. Huggle2 has been made now but I say you stay with Huggle. '''SLAM''' \"</td>\n",
       "      <td>0</td>\n",
       "    </tr>\n",
       "    <tr>\n",
       "      <th>536</th>\n",
       "      <td>536</td>\n",
       "      <td>where's with pitchforks already?   17:09, 16 Jun 2005 (UTC)</td>\n",
       "      <td>0</td>\n",
       "    </tr>\n",
       "    <tr>\n",
       "      <th>45422</th>\n",
       "      <td>45475</td>\n",
       "      <td>My response \\n1. its the same site\\n2. wiki is not always wikipedia, there wiki's for almost everything just a legitimate as wikipedia\\n3. You are human, just like them.\\n4. that's a matter of opinion</td>\n",
       "      <td>0</td>\n",
       "    </tr>\n",
       "    <tr>\n",
       "      <th>25397</th>\n",
       "      <td>25421</td>\n",
       "      <td>\" 2006 (UTC)\\n\\nI agree with the \"\"it's like different namings\"\", so Ancient = English ie. Milky Way name for any individual of the FIRST evolution of mankind, (At)Lanteans = Pegasus name after \"\"Atlantis\"\", \\nbut then: Alteran = (is Latin for \"\"the others\"\" - and Latin was influenced by Merlin&amp;Co-returners; to Milky Way) all Ancients that left the Home Galaxy (now:OriGalaxy) for the Milky Way...</td>\n",
       "      <td>0</td>\n",
       "    </tr>\n",
       "    <tr>\n",
       "      <th>113979</th>\n",
       "      <td>114077</td>\n",
       "      <td>It is pointless (and lack of any sense, and demential). Does the voice go to wikipedia only if Femmina retains that the project is good for her ? For example, an user application like Blind Assistant cannot be realized using a PC-104. Because PC-104 hasn't an incorporated display. And after all, one thing is to use a commercial device, that someone can buy anywhere, and a different thing is to...</td>\n",
       "      <td>0</td>\n",
       "    </tr>\n",
       "    <tr>\n",
       "      <th>103360</th>\n",
       "      <td>103457</td>\n",
       "      <td>But whether or not CS is science has nothing to do with views or opinion.</td>\n",
       "      <td>0</td>\n",
       "    </tr>\n",
       "    <tr>\n",
       "      <th>66902</th>\n",
       "      <td>66969</td>\n",
       "      <td>Dear Jeff G.  Why do my edits keep getting automatically reverted?  What they heck?</td>\n",
       "      <td>0</td>\n",
       "    </tr>\n",
       "  </tbody>\n",
       "</table>\n",
       "</div>"
      ],
      "text/plain": [
       "        Unnamed: 0  \\\n",
       "106118      106215   \n",
       "79169        79245   \n",
       "147655      147811   \n",
       "142524      142677   \n",
       "101466      101563   \n",
       "3780          3780   \n",
       "40253        40303   \n",
       "18120        18137   \n",
       "86291        86372   \n",
       "536            536   \n",
       "45422        45475   \n",
       "25397        25421   \n",
       "113979      114077   \n",
       "103360      103457   \n",
       "66902        66969   \n",
       "\n",
       "                                                                                                                                                                                                                                                                                                                                                                                                                   text  \\\n",
       "106118  \"\\n\\nI seem to have been blocked without fair warning. The \"\"warning\"\" came at 1:30am UTC, the \"\"block\"\" came at 1:48 UTC. In between these times I made exactly zero (0) contributions.\\n\\nThe \"\"vandalizing\"\" is likely a personal vendetta that user Megaman Zero has against me, for reverting a content-deleting edit of his. For details please check the Wikipedia history for  \\n\\nAside from that, ...   \n",
       "79169   \"\\n\\nPlease remove your focus from me.  Your bizarre fascination with me is disturbing.  Whenever you are ready to end this conversation, simply stop posting about me.  Thanks in advance. - Sinneed \\nIf you don't want to talk with me here, remove this mention of me.  I accept it as an invitation to comment.- Sinneed \\nOr, I would be content if you simply leave my response in.  But I will have ...   \n",
       "147655                                                                                                                                                                                                           Ok, I got it that not all gay mean speak this way \\n\\nBut is it really necessary to have 50% of the article stating that this is a stereotype and that some (BUT NOT ALL!) homosexuals speak this way?   \n",
       "142524                                                                                                                                                                                                                                                                                                                                                       Info\\nRelated to Date and place of birth would be welocme.   \n",
       "101466                                                                                                                                                                                                                              BABAK \\n\\nBabak himself would have laughed at your comment, Babak was an IRANIAN, His name is purely\\nIranian, and he was an Azari, an azari is part of the median (Iranian) tribe.   \n",
       "3780                                                                                                                                                                                                                        Yes sir i am.   i have not reverted anything.  I change it once with the highlighted and then when it was changed back i left it alone.  I dont wish to disrespect any one or any religion.   \n",
       "40253                                                                                                   Category:Philosophical literature by era\\n\\n:Category:Philosophical literature by era, which you created, has been nominated for discussion. If you would like to participate in the discussion, you are invited to add your comments at the category's entry on the Categories for discussion page. Thank you.   \n",
       "18120                                                                                                                                                                                                                                                                                                                                                 , 7 July 2011 (UTC)\\n\\nYou are just trolling. Back off. -   23:26   \n",
       "86291                                                                                                                        \"\\n\\nYour welcome and thanks, Seaphoto, and I've done new page patrolling. I'm trying to make an article for a DYK by using it in my user page before moving it to the public. I glad to see you're still Huggling. Huggle2 has been made now but I say you stay with Huggle. '''SLAM''' \"   \n",
       "536                                                                                                                                                                                                                                                                                                                                                         where's with pitchforks already?   17:09, 16 Jun 2005 (UTC)   \n",
       "45422                                                                                                                                                                                                          My response \\n1. its the same site\\n2. wiki is not always wikipedia, there wiki's for almost everything just a legitimate as wikipedia\\n3. You are human, just like them.\\n4. that's a matter of opinion   \n",
       "25397   \" 2006 (UTC)\\n\\nI agree with the \"\"it's like different namings\"\", so Ancient = English ie. Milky Way name for any individual of the FIRST evolution of mankind, (At)Lanteans = Pegasus name after \"\"Atlantis\"\", \\nbut then: Alteran = (is Latin for \"\"the others\"\" - and Latin was influenced by Merlin&Co-returners; to Milky Way) all Ancients that left the Home Galaxy (now:OriGalaxy) for the Milky Way...   \n",
       "113979  It is pointless (and lack of any sense, and demential). Does the voice go to wikipedia only if Femmina retains that the project is good for her ? For example, an user application like Blind Assistant cannot be realized using a PC-104. Because PC-104 hasn't an incorporated display. And after all, one thing is to use a commercial device, that someone can buy anywhere, and a different thing is to...   \n",
       "103360                                                                                                                                                                                                                                                                                                                                        But whether or not CS is science has nothing to do with views or opinion.   \n",
       "66902                                                                                                                                                                                                                                                                                                                               Dear Jeff G.  Why do my edits keep getting automatically reverted?  What they heck?   \n",
       "\n",
       "        toxic  \n",
       "106118      0  \n",
       "79169       0  \n",
       "147655      0  \n",
       "142524      0  \n",
       "101466      0  \n",
       "3780        0  \n",
       "40253       0  \n",
       "18120       0  \n",
       "86291       0  \n",
       "536         0  \n",
       "45422       0  \n",
       "25397       0  \n",
       "113979      0  \n",
       "103360      0  \n",
       "66902       0  "
      ]
     },
     "metadata": {},
     "output_type": "display_data"
    }
   ],
   "source": [
    "with pd.option_context('display.max_colwidth', 400):\n",
    "    display(data.sample(15))"
   ]
  },
  {
   "cell_type": "code",
   "execution_count": 14,
   "metadata": {},
   "outputs": [
    {
     "name": "stdout",
     "output_type": "stream",
     "text": [
      "<class 'pandas.core.frame.DataFrame'>\n",
      "RangeIndex: 159292 entries, 0 to 159291\n",
      "Data columns (total 2 columns):\n",
      " #   Column  Non-Null Count   Dtype \n",
      "---  ------  --------------   ----- \n",
      " 0   text    159292 non-null  object\n",
      " 1   toxic   159292 non-null  int64 \n",
      "dtypes: int64(1), object(1)\n",
      "memory usage: 2.4+ MB\n"
     ]
    }
   ],
   "source": [
    "data = data.drop(columns=['Unnamed: 0'], errors='ignore')\n",
    "data.info()"
   ]
  },
  {
   "cell_type": "code",
   "execution_count": 15,
   "metadata": {},
   "outputs": [
    {
     "data": {
      "image/png": "[encoded data removed]",
      "text/plain": [
       "<Figure size 648x360 with 1 Axes>"
      ]
     },
     "metadata": {
      "needs_background": "light"
     },
     "output_type": "display_data"
    }
   ],
   "source": [
    "(\n",
    "    data['text']\n",
    "    .apply(lambda x: len(x))\n",
    "    .plot(kind='hist', bins=100, figsize=(9,5), title = 'Text length in Chars hist', grid=True)\n",
    "    .set_xlabel(\"Length in Chars\")\n",
    ");"
   ]
  },
  {
   "cell_type": "code",
   "execution_count": 16,
   "metadata": {},
   "outputs": [
    {
     "data": {
      "image/png": "[encoded data removed]",
      "text/plain": [
       "<Figure size 648x360 with 1 Axes>"
      ]
     },
     "metadata": {
      "needs_background": "light"
     },
     "output_type": "display_data"
    }
   ],
   "source": [
    "(\n",
    "    data['text']\n",
    "    .apply(lambda x: len(x.split()))\n",
    "    .plot(kind='hist', bins=100, figsize=(9,5), title = 'Text length in Words hist', grid=True)\n",
    "    .set_xlabel(\"Length in Words\")\n",
    ");"
   ]
  },
  {
   "cell_type": "markdown",
   "metadata": {},
   "source": [
    "**Resume**\n",
    "- Language is English\n",
    "- There are about 160k rows total\n",
    "- Most messages are short. We have a few messages with length more than 512 words"
   ]
  },
  {
   "attachments": {},
   "cell_type": "markdown",
   "metadata": {},
   "source": [
    "## Feature Engineering <a class=\"anchor\" id=\"features\"></a>\n",
    "- Look at the long messages\n",
    "- Type casting is not required\n",
    "- Check missing values\n",
    "- Check duplicates\n",
    "- Search for anomalies\n",
    "- Create an additional column with lemmatized text\n",
    "- Create TF-IDF Features"
   ]
  },
  {
   "attachments": {},
   "cell_type": "markdown",
   "metadata": {},
   "source": [
    "### Basic preprocessing <a class=\"anchor\" id=\"basic\"></a>"
   ]
  },
  {
   "cell_type": "code",
   "execution_count": 17,
   "metadata": {},
   "outputs": [
    {
     "name": "stdout",
     "output_type": "stream",
     "text": [
      "<class 'pandas.core.frame.DataFrame'>\n",
      "Int64Index: 1969 entries, 126 to 159204\n",
      "Data columns (total 2 columns):\n",
      " #   Column  Non-Null Count  Dtype \n",
      "---  ------  --------------  ----- \n",
      " 0   text    1969 non-null   object\n",
      " 1   toxic   1969 non-null   int64 \n",
      "dtypes: int64(1), object(1)\n",
      "memory usage: 46.1+ KB\n"
     ]
    }
   ],
   "source": [
    "df = data[data['text'].apply(lambda x: len(x.split())) > 512]  # тут надо было 512*<длина слова>\n",
    "df.info()"
   ]
  },
  {
   "cell_type": "code",
   "execution_count": 18,
   "metadata": {},
   "outputs": [
    {
     "data": {
      "text/plain": [
       "'\"\\n\\n Kickstart disks \\n\\nThe current article states \\'subsequent Amiga models all used ROM chips\\' [following the A1000] in relation to Kickstart.\\n\\nHowever, I remember that the Amiga 3000 also required such a Kickstart disk. Can anyone confirm? Thanks!\\n\\nMost A3000s used ROMs, but some (like mine) had a small \"\"Super Kickstart\"\" in ROM which read Kickstart from floppy or hard disk. (Super Kickstart was based on AmigaOS 1.4, which never appeared anywhere else.) IIRC, only the machines manufactured in Europe had \"\"Super Kickstart\"\", but I may well be wrong on that detail. I do know that I never got my machine to boot a v3.x AmigaOS =(. Cheers, (talk) \\n\\n Freeing memory \\n\\n(This is relevant to a different Wikipedia article). I have the statement in front of me that, when a program terminates in AmigaOS, memory assigned by the program is not freed, and that it is therefore vital for the program to release all memory that it asked for, otherwise it is permanently \"\"leaked\"\". Is this the case?  \\n\\nMemory that is not freed before termination of a program in the Amiga OS is leaked (assuming it was supposed to be freed - in some cases a program may have allocated structures and attached them to system objects, such as a device node).  One of the most common modes of testing on the Amiga was checking free memory after program exit; there were many tools that automated that.  Normal behavior of a program was to free all memory, and all malloc\\'d memory was automatically freed via exit-time hooks.  (I.e. leaking memory typically only happened to memory obtained via AllocMem() and the like.)   \\n\\nIndeed. AmigaOS does little to no resource tracking in order to save the memory overhead that it costs to include tracking. There was also a third-party program that patched many allocate/free resource functions (e.g. AllocMem/FreeMem, OpenWindow/CloseWindow) and added resource tracking to them, however this would break any software that deliberately allocate memory then exited, for example programs which installed patches on system functions. Programs assume the responsibility for freeing all allocated memory. The standard C library implementation in most Amiga C compilers used an onexit handler that freed any memory allocated with the malloc() implementation, but if the program crashed or the AmigaOS memory allocation routines were called directly, memory allocations were not freed. Other languages had varying degrees of support for tracking memory, usually (like C) only if you used the language-specific memory allocators.  \\n\\nThank you for your replies. The reason for the question relates to a discussion I\\'ve been having on memory leak. I\\'m going to post a question which is very subjective, but maybe there\\'s a consensus. The article includes \"\"In modern operating systems, normal memory used by an application is released when the application terminates\"\". Part of the debate is over whether this is really true, and whether it should say \"\"In some operating systems...\"\". The leading question is: is AmigaOS a \"\"modern operating system\"\"? A supplementary dispute, where it says \"\"The application assumes that the request for memory has succeeded, and continues on this basis. This will typically result in an access violation but in some cases may result in damaging information belonging to this or (in primitive systems) some other application.\"\" Should this have \"\"some systems\"\" in place of \"\"primitive systems\"\"? Thanks in advance.  \\n\\nThe amiga would be included in \"\"modern operating systems\"\", and it does release \"\"normal memory\"\" (i.e. malloced) when the application ends.  Program crashes on an Amiga do not release memory, so you could say it leaks on process crash.  And a program that uses things like OpenFile() instead of open() will leak a filehandle (and some memory) if the program calls exit() without closing the file.  As for your second question, the answer would be \"\"some systems\"\" - many \"\"modern\"\" embedded systems (including running unix variants like uclinux) do not have memory protection, and can read (and possibly write) structures using NULL as a pointer without an access violation.  Personally, I HATE programs that don\\'t check malloc (or any other calls) for failure.  Good programming practice on the Amiga (due to the lack of VM) was to test programs and the OS against random memory allocation failures to see if they recovered cleanly or not.  All allocations (and all system calls, etc) should be checked for failure and'"
      ]
     },
     "execution_count": 18,
     "metadata": {},
     "output_type": "execute_result"
    }
   ],
   "source": [
    "df.sample(1).iloc[0, 0]"
   ]
  },
  {
   "cell_type": "markdown",
   "metadata": {},
   "source": [
    "**Result**\n",
    "- a little more than 1% of messages longer that 512 words\n",
    "- selective viewing does not show unnecessary information (texts of forwarded messages, signatures, and so on)\n",
    "- presumably the emotional coloring fits into the first 512 words, so we can limit the number of words when working with BERT."
   ]
  },
  {
   "cell_type": "code",
   "execution_count": 19,
   "metadata": {},
   "outputs": [
    {
     "name": "stdout",
     "output_type": "stream",
     "text": [
      "<class 'pandas.core.frame.DataFrame'>\n",
      "Int64Index: 288 entries, 899 to 159265\n",
      "Data columns (total 2 columns):\n",
      " #   Column  Non-Null Count  Dtype \n",
      "---  ------  --------------  ----- \n",
      " 0   text    288 non-null    object\n",
      " 1   toxic   288 non-null    int64 \n",
      "dtypes: int64(1), object(1)\n",
      "memory usage: 6.8+ KB\n"
     ]
    }
   ],
   "source": [
    "df = data[data['text'].apply(lambda x: len(x)) < 20]\n",
    "df.info()"
   ]
  },
  {
   "cell_type": "code",
   "execution_count": 20,
   "metadata": {},
   "outputs": [
    {
     "data": {
      "text/html": [
       "<div>\n",
       "<style scoped>\n",
       "    .dataframe tbody tr th:only-of-type {\n",
       "        vertical-align: middle;\n",
       "    }\n",
       "\n",
       "    .dataframe tbody tr th {\n",
       "        vertical-align: top;\n",
       "    }\n",
       "\n",
       "    .dataframe thead th {\n",
       "        text-align: right;\n",
       "    }\n",
       "</style>\n",
       "<table border=\"1\" class=\"dataframe\">\n",
       "  <thead>\n",
       "    <tr style=\"text-align: right;\">\n",
       "      <th></th>\n",
       "      <th>text</th>\n",
       "      <th>toxic</th>\n",
       "    </tr>\n",
       "  </thead>\n",
       "  <tbody>\n",
       "    <tr>\n",
       "      <th>899</th>\n",
       "      <td>I've just seen that</td>\n",
       "      <td>0</td>\n",
       "    </tr>\n",
       "    <tr>\n",
       "      <th>1275</th>\n",
       "      <td>Is it still a stub?</td>\n",
       "      <td>0</td>\n",
       "    </tr>\n",
       "    <tr>\n",
       "      <th>2454</th>\n",
       "      <td>- unsigned comment</td>\n",
       "      <td>0</td>\n",
       "    </tr>\n",
       "    <tr>\n",
       "      <th>2499</th>\n",
       "      <td>I understand now.</td>\n",
       "      <td>0</td>\n",
       "    </tr>\n",
       "    <tr>\n",
       "      <th>2816</th>\n",
       "      <td>Sure, goodnight! )</td>\n",
       "      <td>0</td>\n",
       "    </tr>\n",
       "    <tr>\n",
       "      <th>...</th>\n",
       "      <td>...</td>\n",
       "      <td>...</td>\n",
       "    </tr>\n",
       "    <tr>\n",
       "      <th>158822</th>\n",
       "      <td>Yes, someone can. -</td>\n",
       "      <td>0</td>\n",
       "    </tr>\n",
       "    <tr>\n",
       "      <th>159169</th>\n",
       "      <td>Yeah i no it sucks.</td>\n",
       "      <td>1</td>\n",
       "    </tr>\n",
       "    <tr>\n",
       "      <th>159188</th>\n",
       "      <td>(talk • contribs)</td>\n",
       "      <td>0</td>\n",
       "    </tr>\n",
       "    <tr>\n",
       "      <th>159193</th>\n",
       "      <td>You ignored him too</td>\n",
       "      <td>0</td>\n",
       "    </tr>\n",
       "    <tr>\n",
       "      <th>159265</th>\n",
       "      <td>You could do worse.</td>\n",
       "      <td>0</td>\n",
       "    </tr>\n",
       "  </tbody>\n",
       "</table>\n",
       "<p>288 rows × 2 columns</p>\n",
       "</div>"
      ],
      "text/plain": [
       "                       text  toxic\n",
       "899     I've just seen that      0\n",
       "1275    Is it still a stub?      0\n",
       "2454     - unsigned comment      0\n",
       "2499      I understand now.      0\n",
       "2816     Sure, goodnight! )      0\n",
       "...                     ...    ...\n",
       "158822  Yes, someone can. -      0\n",
       "159169  Yeah i no it sucks.      1\n",
       "159188    (talk • contribs)      0\n",
       "159193  You ignored him too      0\n",
       "159265  You could do worse.      0\n",
       "\n",
       "[288 rows x 2 columns]"
      ]
     },
     "execution_count": 20,
     "metadata": {},
     "output_type": "execute_result"
    }
   ],
   "source": [
    "df"
   ]
  },
  {
   "cell_type": "markdown",
   "metadata": {},
   "source": [
    "There are two rows with indices 119018 and 137400 that have the same text and different target. Most likely this is a markup error, we will delete them"
   ]
  },
  {
   "cell_type": "code",
   "execution_count": 21,
   "metadata": {},
   "outputs": [
    {
     "name": "stdout",
     "output_type": "stream",
     "text": [
      "(159292, 2)\n",
      "(159290, 2)\n"
     ]
    }
   ],
   "source": [
    "print(data.shape)\n",
    "data = data.drop([119018, 137400])\n",
    "print(data.shape)"
   ]
  },
  {
   "cell_type": "code",
   "execution_count": 22,
   "metadata": {},
   "outputs": [
    {
     "name": "stdout",
     "output_type": "stream",
     "text": [
      "<class 'pandas.core.frame.DataFrame'>\n",
      "Int64Index: 20 entries, 10193 to 141040\n",
      "Data columns (total 2 columns):\n",
      " #   Column  Non-Null Count  Dtype \n",
      "---  ------  --------------  ----- \n",
      " 0   text    20 non-null     object\n",
      " 1   toxic   20 non-null     int64 \n",
      "dtypes: int64(1), object(1)\n",
      "memory usage: 480.0+ bytes\n"
     ]
    }
   ],
   "source": [
    "df = data[data['text'].apply(lambda x: len(x.split())) < 2]\n",
    "df.info()"
   ]
  },
  {
   "cell_type": "code",
   "execution_count": 23,
   "metadata": {},
   "outputs": [
    {
     "data": {
      "text/html": [
       "<div>\n",
       "<style scoped>\n",
       "    .dataframe tbody tr th:only-of-type {\n",
       "        vertical-align: middle;\n",
       "    }\n",
       "\n",
       "    .dataframe tbody tr th {\n",
       "        vertical-align: top;\n",
       "    }\n",
       "\n",
       "    .dataframe thead th {\n",
       "        text-align: right;\n",
       "    }\n",
       "</style>\n",
       "<table border=\"1\" class=\"dataframe\">\n",
       "  <thead>\n",
       "    <tr style=\"text-align: right;\">\n",
       "      <th></th>\n",
       "      <th>text</th>\n",
       "      <th>toxic</th>\n",
       "    </tr>\n",
       "  </thead>\n",
       "  <tbody>\n",
       "    <tr>\n",
       "      <th>10193</th>\n",
       "      <td>64.86.141.133\"</td>\n",
       "      <td>0</td>\n",
       "    </tr>\n",
       "    <tr>\n",
       "      <th>15432</th>\n",
       "      <td>Howdy!\"</td>\n",
       "      <td>0</td>\n",
       "    </tr>\n",
       "    <tr>\n",
       "      <th>19772</th>\n",
       "      <td>(www.ebenefits.va.gov)</td>\n",
       "      <td>0</td>\n",
       "    </tr>\n",
       "    <tr>\n",
       "      <th>38743</th>\n",
       "      <td>88.104.31.21\"</td>\n",
       "      <td>0</td>\n",
       "    </tr>\n",
       "    <tr>\n",
       "      <th>52336</th>\n",
       "      <td>14:53,</td>\n",
       "      <td>0</td>\n",
       "    </tr>\n",
       "    <tr>\n",
       "      <th>52369</th>\n",
       "      <td>User_talk:Blackson#Religious_bias</td>\n",
       "      <td>0</td>\n",
       "    </tr>\n",
       "    <tr>\n",
       "      <th>53679</th>\n",
       "      <td>92.24.199.233|92.24.199.233]]</td>\n",
       "      <td>0</td>\n",
       "    </tr>\n",
       "    <tr>\n",
       "      <th>55641</th>\n",
       "      <td>Complaints/Mistakes</td>\n",
       "      <td>0</td>\n",
       "    </tr>\n",
       "    <tr>\n",
       "      <th>64788</th>\n",
       "      <td>http://en.wikipedia.org/wiki/Wikipedia_talk:No...</td>\n",
       "      <td>0</td>\n",
       "    </tr>\n",
       "    <tr>\n",
       "      <th>75905</th>\n",
       "      <td>http://finance.yahoo.com/news/7-fascinating-nu...</td>\n",
       "      <td>0</td>\n",
       "    </tr>\n",
       "    <tr>\n",
       "      <th>93421</th>\n",
       "      <td>{{unblock|yo</td>\n",
       "      <td>0</td>\n",
       "    </tr>\n",
       "    <tr>\n",
       "      <th>105468</th>\n",
       "      <td>Talk:E%3DMC%C2%B2_(Mariah_Carey_album)#Concern...</td>\n",
       "      <td>0</td>\n",
       "    </tr>\n",
       "    <tr>\n",
       "      <th>106701</th>\n",
       "      <td>http://en.wikipedia.org/wiki/Wikipedia:ELYES</td>\n",
       "      <td>0</td>\n",
       "    </tr>\n",
       "    <tr>\n",
       "      <th>109794</th>\n",
       "      <td>{{unbloc</td>\n",
       "      <td>0</td>\n",
       "    </tr>\n",
       "    <tr>\n",
       "      <th>110102</th>\n",
       "      <td>Wikipedia:Administrators%27_noticeboard/Incide...</td>\n",
       "      <td>0</td>\n",
       "    </tr>\n",
       "    <tr>\n",
       "      <th>111246</th>\n",
       "      <td>|needs-infobox=yes</td>\n",
       "      <td>0</td>\n",
       "    </tr>\n",
       "    <tr>\n",
       "      <th>117465</th>\n",
       "      <td>(talk)/(contribs)</td>\n",
       "      <td>0</td>\n",
       "    </tr>\n",
       "    <tr>\n",
       "      <th>127522</th>\n",
       "      <td>User:Wipeouting</td>\n",
       "      <td>0</td>\n",
       "    </tr>\n",
       "    <tr>\n",
       "      <th>129962</th>\n",
       "      <td>hyper_individualist@yahoo.com</td>\n",
       "      <td>0</td>\n",
       "    </tr>\n",
       "    <tr>\n",
       "      <th>141040</th>\n",
       "      <td>http://www.haaretz.com/news/diplomacy-defense/...</td>\n",
       "      <td>0</td>\n",
       "    </tr>\n",
       "  </tbody>\n",
       "</table>\n",
       "</div>"
      ],
      "text/plain": [
       "                                                     text  toxic\n",
       "10193                                      64.86.141.133\"      0\n",
       "15432                                             Howdy!\"      0\n",
       "19772                              (www.ebenefits.va.gov)      0\n",
       "38743                                       88.104.31.21\"      0\n",
       "52336                                              14:53,      0\n",
       "52369                   User_talk:Blackson#Religious_bias      0\n",
       "53679                       92.24.199.233|92.24.199.233]]      0\n",
       "55641                                 Complaints/Mistakes      0\n",
       "64788   http://en.wikipedia.org/wiki/Wikipedia_talk:No...      0\n",
       "75905   http://finance.yahoo.com/news/7-fascinating-nu...      0\n",
       "93421                                        {{unblock|yo      0\n",
       "105468  Talk:E%3DMC%C2%B2_(Mariah_Carey_album)#Concern...      0\n",
       "106701       http://en.wikipedia.org/wiki/Wikipedia:ELYES      0\n",
       "109794                                           {{unbloc      0\n",
       "110102  Wikipedia:Administrators%27_noticeboard/Incide...      0\n",
       "111246                                 |needs-infobox=yes      0\n",
       "117465                                  (talk)/(contribs)      0\n",
       "127522                                    User:Wipeouting      0\n",
       "129962                      hyper_individualist@yahoo.com      0\n",
       "141040  http://www.haaretz.com/news/diplomacy-defense/...      0"
      ]
     },
     "execution_count": 23,
     "metadata": {},
     "output_type": "execute_result"
    }
   ],
   "source": [
    "df.head(25)"
   ]
  },
  {
   "cell_type": "markdown",
   "metadata": {},
   "source": [
    "There are some messages, for example: numbers and punctuation only, \"User:Wipeouting\", email, url, \"{{unbloc\" etc. Just delete it in this case"
   ]
  },
  {
   "cell_type": "code",
   "execution_count": 24,
   "metadata": {},
   "outputs": [
    {
     "name": "stdout",
     "output_type": "stream",
     "text": [
      "(159290, 2)\n",
      "(159272, 2)\n"
     ]
    }
   ],
   "source": [
    "print(data.shape)\n",
    "data = data.drop([ 10193,  19772,  38743,  52336,  52369,  53679,\n",
    "             64788,  75905,  93421, 105468, 106701, 109794, 110102, 111246,\n",
    "            117465, 127522, 129962, 141040])\n",
    "print(data.shape)"
   ]
  },
  {
   "cell_type": "markdown",
   "metadata": {},
   "source": [
    "### Preprocessing"
   ]
  },
  {
   "cell_type": "code",
   "execution_count": 25,
   "metadata": {},
   "outputs": [],
   "source": [
    "def preprocess(text):\n",
    "    text = text.lower() \n",
    "    text = text.strip()  \n",
    "    text = re.compile('<.*?>').sub('', text) \n",
    "    text = re.compile('[%s]' % re.escape(string.punctuation)).sub(' ', text)  \n",
    "    text = re.sub('\\s+', ' ', text)  \n",
    "    text = re.sub(r'\\[[0-9]*\\]',' ',text) \n",
    "    text = re.sub(r'[^\\w\\s]', '', str(text).lower().strip())\n",
    "    text = re.sub(r'\\d',' ',text) \n",
    "    text = re.sub(r'\\s+',' ',text) \n",
    "    return text"
   ]
  },
  {
   "cell_type": "code",
   "execution_count": 26,
   "metadata": {},
   "outputs": [
    {
     "name": "stdout",
     "output_type": "stream",
     "text": [
      "CPU times: user 14.4 s, sys: 251 ms, total: 14.7 s\n",
      "Wall time: 15.1 s\n"
     ]
    },
    {
     "data": {
      "text/plain": [
       "0    explanation why the edits made under my userna...\n",
       "1    d aww he matches this background colour i m se...\n",
       "2    hey man i m really not trying to edit war it s...\n",
       "3    more i can t make any real suggestions on impr...\n",
       "4    you sir are my hero any chance you remember wh...\n",
       "Name: text_clear, dtype: object"
      ]
     },
     "execution_count": 26,
     "metadata": {},
     "output_type": "execute_result"
    }
   ],
   "source": [
    "%%time\n",
    "data['text_clear'] = data['text'].apply(lambda x: preprocess(x))\n",
    "data['text_clear'].head()"
   ]
  },
  {
   "cell_type": "markdown",
   "metadata": {},
   "source": [
    "### Lemmatization"
   ]
  },
  {
   "cell_type": "code",
   "execution_count": 27,
   "metadata": {},
   "outputs": [],
   "source": [
    "lemmanizer = spacy.load('en', disable=['parser', 'ner'])"
   ]
  },
  {
   "cell_type": "code",
   "execution_count": 28,
   "metadata": {},
   "outputs": [
    {
     "data": {
      "application/vnd.jupyter.widget-view+json": {
       "model_id": "237f6bfd22a24ea6a4e2fb8bef4e4dec",
       "version_major": 2,
       "version_minor": 0
      },
      "text/plain": [
       "Dask Apply:   0%|          | 0/16 [00:00<?, ?it/s]"
      ]
     },
     "metadata": {},
     "output_type": "display_data"
    },
    {
     "name": "stdout",
     "output_type": "stream",
     "text": [
      "CPU times: user 31 s, sys: 7.02 s, total: 38 s\n",
      "Wall time: 5min 27s\n"
     ]
    }
   ],
   "source": [
    "%%time\n",
    "\n",
    "data['text_lemm'] = (\n",
    "    data['text_clear']\n",
    "    #.head(100)\n",
    "    .swifter\n",
    "    .allow_dask_on_strings(enable=True)\n",
    "    .apply(lambda x: ' '.join([token.lemma_ for token in lemmanizer(x)]))\n",
    ")"
   ]
  },
  {
   "cell_type": "code",
   "execution_count": 29,
   "metadata": {},
   "outputs": [
    {
     "data": {
      "text/plain": [
       "0    explanation why the edit make under -PRON- use...\n",
       "1    d aww -PRON- match this background colour i m ...\n",
       "2    hey man i m really not try to edit war -PRON- ...\n",
       "3    more i can t make any real suggestion on impro...\n",
       "4    -PRON- sir be -PRON- hero any chance -PRON- re...\n",
       "Name: text_lemm, dtype: object"
      ]
     },
     "execution_count": 29,
     "metadata": {},
     "output_type": "execute_result"
    }
   ],
   "source": [
    "data['text_lemm'].head()"
   ]
  },
  {
   "attachments": {},
   "cell_type": "markdown",
   "metadata": {},
   "source": [
    "### Implicit Duplicates <a class=\"anchor\" id=\"duplicates\"></a>"
   ]
  },
  {
   "cell_type": "code",
   "execution_count": 30,
   "metadata": {},
   "outputs": [
    {
     "data": {
      "text/plain": [
       "0"
      ]
     },
     "execution_count": 30,
     "metadata": {},
     "output_type": "execute_result"
    }
   ],
   "source": [
    "data['text'].duplicated().sum()"
   ]
  },
  {
   "cell_type": "code",
   "execution_count": 31,
   "metadata": {},
   "outputs": [
    {
     "data": {
      "text/plain": [
       "1289"
      ]
     },
     "execution_count": 31,
     "metadata": {},
     "output_type": "execute_result"
    }
   ],
   "source": [
    "data['text_lemm'].duplicated().sum()"
   ]
  },
  {
   "cell_type": "code",
   "execution_count": 32,
   "metadata": {},
   "outputs": [
    {
     "data": {
      "text/plain": [
       "1259"
      ]
     },
     "execution_count": 32,
     "metadata": {},
     "output_type": "execute_result"
    }
   ],
   "source": [
    "data[['text_lemm', 'toxic']].duplicated().sum()"
   ]
  },
  {
   "cell_type": "markdown",
   "metadata": {},
   "source": [
    "Excellent! Preprocessing and lemmatization revealed 1232 duplicates<br>\n",
    "But... not all of them are labeled the same."
   ]
  },
  {
   "cell_type": "code",
   "execution_count": 33,
   "metadata": {},
   "outputs": [
    {
     "data": {
      "text/plain": [
       "(2037, 4)"
      ]
     },
     "execution_count": 33,
     "metadata": {},
     "output_type": "execute_result"
    }
   ],
   "source": [
    "s = data[data['text_lemm'].duplicated()]['text_lemm']\n",
    "df = data.query('text_lemm in @s')\n",
    "df.shape"
   ]
  },
  {
   "cell_type": "markdown",
   "metadata": {},
   "source": [
    "Curiously, some rows occur even more than 2 times"
   ]
  },
  {
   "cell_type": "code",
   "execution_count": 34,
   "metadata": {},
   "outputs": [
    {
     "data": {
      "text/html": [
       "<div>\n",
       "<style scoped>\n",
       "    .dataframe tbody tr th:only-of-type {\n",
       "        vertical-align: middle;\n",
       "    }\n",
       "\n",
       "    .dataframe tbody tr th {\n",
       "        vertical-align: top;\n",
       "    }\n",
       "\n",
       "    .dataframe thead th {\n",
       "        text-align: right;\n",
       "    }\n",
       "</style>\n",
       "<table border=\"1\" class=\"dataframe\">\n",
       "  <thead>\n",
       "    <tr style=\"text-align: right;\">\n",
       "      <th></th>\n",
       "      <th>text_lemm</th>\n",
       "      <th>min</th>\n",
       "      <th>max</th>\n",
       "    </tr>\n",
       "  </thead>\n",
       "  <tbody>\n",
       "    <tr>\n",
       "      <th>52</th>\n",
       "      <td>-PRON- be go to make sure -PRON- be expose drop -PRON- relation with anti american hate group -PRON- be go to make sure -PRON- be expose drop -PRON- relation with anti american hate group</td>\n",
       "      <td>0</td>\n",
       "      <td>1</td>\n",
       "    </tr>\n",
       "    <tr>\n",
       "      <th>61</th>\n",
       "      <td>-PRON- fail at life n t</td>\n",
       "      <td>0</td>\n",
       "      <td>1</td>\n",
       "    </tr>\n",
       "    <tr>\n",
       "      <th>74</th>\n",
       "      <td>-PRON- may check with the fascist who refuse to allow any criticism of kde to be list in fact the one criticism of kde that hasn t be delete be counter with a but window user like -PRON- argument -PRON- want npov that mean fact and fact mean accept the criticism as well i like kde but some of -PRON- be just be moron about not allow any criticism get over -PRON- fanboy self and deal with -PRON-</td>\n",
       "      <td>0</td>\n",
       "      <td>1</td>\n",
       "    </tr>\n",
       "    <tr>\n",
       "      <th>84</th>\n",
       "      <td>-PRON- serious mental illness and addiction this be the most contructive thing that can ever be contribute as -PRON- relate to -PRON- and -PRON- involvement here please stop and think about the depth of -PRON- sickness sit there with -PRON- face glue to -PRON- computer screen uncompensated day after day week after week for year tinker with the biography of people -PRON- don t even know who act...</td>\n",
       "      <td>0</td>\n",
       "      <td>1</td>\n",
       "    </tr>\n",
       "    <tr>\n",
       "      <th>109</th>\n",
       "      <td>ahhhh -PRON- always feel good to have the last word to get in the last word although i don t sign -PRON- edit -PRON- can see that from the sinbot that i be the person that start this discussion of format the table lol yes good to see that everybody have more or less agree upon a non descript colour format fair enough well than no colour format for heading jack merridew i see that -PRON- go and...</td>\n",
       "      <td>0</td>\n",
       "      <td>1</td>\n",
       "    </tr>\n",
       "    <tr>\n",
       "      <th>122</th>\n",
       "      <td>ankit fadia ankit fadia be not a white hat hacker -PRON- be a serial liar i be be very kind here i be a security professional by trade ankit fadia be rate by attendee of the def con hacker conference the large hacker conference in the world as charlatan of the year call ankit fadia an author of several book on the subject of ethical hacking be as factual as like call barack obama the president...</td>\n",
       "      <td>0</td>\n",
       "      <td>1</td>\n",
       "    </tr>\n",
       "    <tr>\n",
       "      <th>151</th>\n",
       "      <td>block mardyks excellent work there shii -PRON- can t have -PRON- kind get -PRON- to think about what the maya actually say about -PRON- own prophecy -PRON- insult -PRON- offend -PRON- and abuse -PRON- and -PRON- just have to be ethical and persistant block those mother fukker take out the entire santa fe public library system be a great preemptive strike also there may be other of -PRON- kind ...</td>\n",
       "      <td>0</td>\n",
       "      <td>1</td>\n",
       "    </tr>\n",
       "    <tr>\n",
       "      <th>237</th>\n",
       "      <td>guess what -PRON- retard</td>\n",
       "      <td>0</td>\n",
       "      <td>1</td>\n",
       "    </tr>\n",
       "    <tr>\n",
       "      <th>251</th>\n",
       "      <td>hello nawlin why do -PRON- like to deflower prepubescent girl do not -PRON- know that s a felony</td>\n",
       "      <td>0</td>\n",
       "      <td>1</td>\n",
       "    </tr>\n",
       "    <tr>\n",
       "      <th>256</th>\n",
       "      <td>hey be -PRON- kid -PRON- i be add info to this site to make -PRON- much more reliable -PRON- must be sick head to think i be remove thing no body ever dare to care about this article -PRON- be -PRON- who be try to give some life yo useriously must be out of -PRON- mind go right ahead and do as -PRON- wish i be jsut help and there be no more need of maintenance tag all be omplete accord to -PRO...</td>\n",
       "      <td>0</td>\n",
       "      <td>1</td>\n",
       "    </tr>\n",
       "    <tr>\n",
       "      <th>268</th>\n",
       "      <td>home of the cop that be one ugly cat el c concern but in reality -PRON- be a disgrace to the people who have be here a lot long then -PRON- -PRON- have no respect for the great spirit -PRON- have no respect for live thing -PRON- have no respect for the people -PRON- call -PRON- own and -PRON- have no respect for -PRON- why don t -PRON- come out and tell the people here that -PRON- be a cop als...</td>\n",
       "      <td>0</td>\n",
       "      <td>1</td>\n",
       "    </tr>\n",
       "    <tr>\n",
       "      <th>270</th>\n",
       "      <td>honestly that be not threat of harassment maybe -PRON- sound like -PRON- but -PRON- don t know about the actual situation and what happen in the past gvnayr be a very dangerous wikipedian i can deepen -PRON- i m edit wikipedia since and i can say that -PRON- be the lame weirdest most dangerous etc in -PRON- opinion be block indefinitely because of this be not fair month be more fair sadly bloc...</td>\n",
       "      <td>0</td>\n",
       "      <td>1</td>\n",
       "    </tr>\n",
       "    <tr>\n",
       "      <th>283</th>\n",
       "      <td>i be not a vandal</td>\n",
       "      <td>0</td>\n",
       "      <td>1</td>\n",
       "    </tr>\n",
       "    <tr>\n",
       "      <th>291</th>\n",
       "      <td>i know what -PRON- world wide conspiracy -PRON- be involve in be ian as -PRON- speak about on -PRON- user page -PRON- be a member of the chruch of satan and part of a world wide masonic conspiracy for a holocaust of christian -PRON- be quick to remove the truth about the color of the church of satan logo of the red and purple be the color the whore of babylon be say to be clothe in in revelati...</td>\n",
       "      <td>0</td>\n",
       "      <td>1</td>\n",
       "    </tr>\n",
       "    <tr>\n",
       "      <th>293</th>\n",
       "      <td>i m sorry -PRON- be bear a yank that isn t -PRON- fault but i hear suicide be a sure fire cure please try -PRON- and get back to -PRON-</td>\n",
       "      <td>0</td>\n",
       "      <td>1</td>\n",
       "    </tr>\n",
       "    <tr>\n",
       "      <th>298</th>\n",
       "      <td>i resent be berate by some know -PRON- all who go off half cock</td>\n",
       "      <td>0</td>\n",
       "      <td>1</td>\n",
       "    </tr>\n",
       "    <tr>\n",
       "      <th>301</th>\n",
       "      <td>i sincerely wish i could meet -PRON- chumps -PRON- freak really get -PRON- goat etaonsh still stick in s europe firestar firststatr kung fu extraordinaire covenantd typical east coast jerk mibhofroovvsskskkety russkie man freeze in ussr samuel luo weird lookin crazy and crazy old tomanandaaa brokeback mt u give w hollywood a bad name hey tom when be -PRON- go to make a real citation -PRON- sch...</td>\n",
       "      <td>0</td>\n",
       "      <td>1</td>\n",
       "    </tr>\n",
       "    <tr>\n",
       "      <th>342</th>\n",
       "      <td>lothar von trotha good riddance to -PRON- -PRON- kill so many innocent herero -PRON- die from typhoid fever in pain catch -PRON- from poison food drink more info be available here mywikibiz com lothar von trotha</td>\n",
       "      <td>0</td>\n",
       "      <td>1</td>\n",
       "    </tr>\n",
       "    <tr>\n",
       "      <th>358</th>\n",
       "      <td>new award well do the iamthecoinman -PRON- be really annoying and -PRON- be good at anti vandalism barnstar i award -PRON- the the iamthecoinman -PRON- be really annoying and -PRON- be good at anti vandalism barnstar for -PRON- multiple prompt revert to -PRON- joke protect the wiki isn t important and an unimportant task under that be protect other wikipedian -PRON- effort be much much not app...</td>\n",
       "      <td>0</td>\n",
       "      <td>1</td>\n",
       "    </tr>\n",
       "    <tr>\n",
       "      <th>375</th>\n",
       "      <td>nothing of the kind i seek a consider determination not a defensive opinionated and punitive reflexive response from this immature cult of wikipedia geek the process of wikipedia seem to -PRON- so much rubbish so -PRON- s good luck to -PRON- all</td>\n",
       "      <td>0</td>\n",
       "      <td>1</td>\n",
       "    </tr>\n",
       "    <tr>\n",
       "      <th>396</th>\n",
       "      <td>outrageous this block be outrageous and un wiki lauren caitlin be about a trillion time more important beloved and prominent than at least of all the article subject on this joke of a site why oh why be wikipedia s administrator so freak a retentive and have such an inferiority complex and fragile ego do all of -PRON- have to ruin the fun and enthusiasm of the rest of us member just because -P...</td>\n",
       "      <td>0</td>\n",
       "      <td>1</td>\n",
       "    </tr>\n",
       "    <tr>\n",
       "      <th>399</th>\n",
       "      <td>paki one of the most ugly individual of this earth yes i mean -PRON- -PRON- s same old case of an pseudo intellectual frustrated paki -PRON- s very easy to suppress paki as repeat coup tell -PRON- poverty be not as bad for an individual as the lose of honour like -PRON- know that afganistan be a poor country but -PRON- be able to expel soviet only due to there courage but that be not the case ...</td>\n",
       "      <td>0</td>\n",
       "      <td>1</td>\n",
       "    </tr>\n",
       "    <tr>\n",
       "      <th>502</th>\n",
       "      <td>remove irrelevant nonsense ad hominem attack in place of reasonable argument show the bankruptcy of those who which to silence -PRON- more -PRON- do more persistent i will be come</td>\n",
       "      <td>0</td>\n",
       "      <td>1</td>\n",
       "    </tr>\n",
       "    <tr>\n",
       "      <th>504</th>\n",
       "      <td>reply to vandal wakkeenah to all the vandal and so call just administrator the air date be minor problem the fact and detail surround reeve suicide be not be write well enough as everybody else be report the fact that reeves be to fight moore next day be also be revert this be pure vandalism as far as spelling go by vesa or project or whoever well if -PRON- keep on repeat -PRON- and have no ti...</td>\n",
       "      <td>0</td>\n",
       "      <td>1</td>\n",
       "    </tr>\n",
       "    <tr>\n",
       "      <th>534</th>\n",
       "      <td>some rating from the vchip the power tv pg l hell shit piss just set up the chair tv pg v the destroyer of world murder caffeinate concert ticket tv pg d lady pecs boob real reason people go to concert be too see hot girl death punchie tv pg v death kwon do rigby s bare ass free cake tv pg l pissed meat -PRON- maker tv pg l v piss cannibalistic hot dog grill cheese deluxe tv pg purple nurple s...</td>\n",
       "      <td>0</td>\n",
       "      <td>1</td>\n",
       "    </tr>\n",
       "    <tr>\n",
       "      <th>535</th>\n",
       "      <td>some white people consider black people to be intellectually and socially inferior only white people think that let s forget about jews arabs and asian people view a whole race of people that never invent a write language in year how could anyone think -PRON- be intellectually and socially inferior be crazy must be evil white man again now i m off to listen to black mozart oh wait</td>\n",
       "      <td>0</td>\n",
       "      <td>1</td>\n",
       "    </tr>\n",
       "    <tr>\n",
       "      <th>618</th>\n",
       "      <td>the official death certificate by russian government say dec and -PRON- other language wikipedia say same grow up will -PRON-</td>\n",
       "      <td>0</td>\n",
       "      <td>1</td>\n",
       "    </tr>\n",
       "    <tr>\n",
       "      <th>647</th>\n",
       "      <td>unblock the reason i use sockpuppet be to avoid harassment from user dibo who immediately revert all -PRON- edit and when i forget to log and brand -PRON- a sockpuppet of some previous user here which the checkuser prove do not exist i get into a revert war with user tancre and user dibo who from the contribution seem to devote -PRON- time exclusively to make trouble and aid each other in edit...</td>\n",
       "      <td>0</td>\n",
       "      <td>1</td>\n",
       "    </tr>\n",
       "    <tr>\n",
       "      <th>731</th>\n",
       "      <td>why should i assume good faith from someone add anti semitic lie to an article -PRON- obvious ignorance on the subject be not an excuse</td>\n",
       "      <td>0</td>\n",
       "      <td>1</td>\n",
       "    </tr>\n",
       "    <tr>\n",
       "      <th>743</th>\n",
       "      <td>yea i do sorry well -PRON- fine now but thank for be smart with -PRON- dude another question ed do -PRON- own wikipedia or do have no life and think -PRON- funny to block ip adress s get back to -PRON- or will -PRON- just block -PRON- haha -PRON- prob will</td>\n",
       "      <td>0</td>\n",
       "      <td>1</td>\n",
       "    </tr>\n",
       "  </tbody>\n",
       "</table>\n",
       "</div>"
      ],
      "text/plain": [
       "                                                                                                                                                                                                                                                                                                                                                                                                           text_lemm  \\\n",
       "52                                                                                                                                                                                                                       -PRON- be go to make sure -PRON- be expose drop -PRON- relation with anti american hate group -PRON- be go to make sure -PRON- be expose drop -PRON- relation with anti american hate group   \n",
       "61                                                                                                                                                                                                                                                                                                                                                                                           -PRON- fail at life n t   \n",
       "74      -PRON- may check with the fascist who refuse to allow any criticism of kde to be list in fact the one criticism of kde that hasn t be delete be counter with a but window user like -PRON- argument -PRON- want npov that mean fact and fact mean accept the criticism as well i like kde but some of -PRON- be just be moron about not allow any criticism get over -PRON- fanboy self and deal with -PRON-   \n",
       "84   -PRON- serious mental illness and addiction this be the most contructive thing that can ever be contribute as -PRON- relate to -PRON- and -PRON- involvement here please stop and think about the depth of -PRON- sickness sit there with -PRON- face glue to -PRON- computer screen uncompensated day after day week after week for year tinker with the biography of people -PRON- don t even know who act...   \n",
       "109  ahhhh -PRON- always feel good to have the last word to get in the last word although i don t sign -PRON- edit -PRON- can see that from the sinbot that i be the person that start this discussion of format the table lol yes good to see that everybody have more or less agree upon a non descript colour format fair enough well than no colour format for heading jack merridew i see that -PRON- go and...   \n",
       "122  ankit fadia ankit fadia be not a white hat hacker -PRON- be a serial liar i be be very kind here i be a security professional by trade ankit fadia be rate by attendee of the def con hacker conference the large hacker conference in the world as charlatan of the year call ankit fadia an author of several book on the subject of ethical hacking be as factual as like call barack obama the president...   \n",
       "151  block mardyks excellent work there shii -PRON- can t have -PRON- kind get -PRON- to think about what the maya actually say about -PRON- own prophecy -PRON- insult -PRON- offend -PRON- and abuse -PRON- and -PRON- just have to be ethical and persistant block those mother fukker take out the entire santa fe public library system be a great preemptive strike also there may be other of -PRON- kind ...   \n",
       "237                                                                                                                                                                                                                                                                                                                                                                                         guess what -PRON- retard   \n",
       "251                                                                                                                                                                                                                                                                                                                 hello nawlin why do -PRON- like to deflower prepubescent girl do not -PRON- know that s a felony   \n",
       "256  hey be -PRON- kid -PRON- i be add info to this site to make -PRON- much more reliable -PRON- must be sick head to think i be remove thing no body ever dare to care about this article -PRON- be -PRON- who be try to give some life yo useriously must be out of -PRON- mind go right ahead and do as -PRON- wish i be jsut help and there be no more need of maintenance tag all be omplete accord to -PRO...   \n",
       "268  home of the cop that be one ugly cat el c concern but in reality -PRON- be a disgrace to the people who have be here a lot long then -PRON- -PRON- have no respect for the great spirit -PRON- have no respect for live thing -PRON- have no respect for the people -PRON- call -PRON- own and -PRON- have no respect for -PRON- why don t -PRON- come out and tell the people here that -PRON- be a cop als...   \n",
       "270  honestly that be not threat of harassment maybe -PRON- sound like -PRON- but -PRON- don t know about the actual situation and what happen in the past gvnayr be a very dangerous wikipedian i can deepen -PRON- i m edit wikipedia since and i can say that -PRON- be the lame weirdest most dangerous etc in -PRON- opinion be block indefinitely because of this be not fair month be more fair sadly bloc...   \n",
       "283                                                                                                                                                                                                                                                                                                                                                                                                i be not a vandal   \n",
       "291  i know what -PRON- world wide conspiracy -PRON- be involve in be ian as -PRON- speak about on -PRON- user page -PRON- be a member of the chruch of satan and part of a world wide masonic conspiracy for a holocaust of christian -PRON- be quick to remove the truth about the color of the church of satan logo of the red and purple be the color the whore of babylon be say to be clothe in in revelati...   \n",
       "293                                                                                                                                                                                                                                                                          i m sorry -PRON- be bear a yank that isn t -PRON- fault but i hear suicide be a sure fire cure please try -PRON- and get back to -PRON-   \n",
       "298                                                                                                                                                                                                                                                                                                                                                  i resent be berate by some know -PRON- all who go off half cock   \n",
       "301  i sincerely wish i could meet -PRON- chumps -PRON- freak really get -PRON- goat etaonsh still stick in s europe firestar firststatr kung fu extraordinaire covenantd typical east coast jerk mibhofroovvsskskkety russkie man freeze in ussr samuel luo weird lookin crazy and crazy old tomanandaaa brokeback mt u give w hollywood a bad name hey tom when be -PRON- go to make a real citation -PRON- sch...   \n",
       "342                                                                                                                                                                                              lothar von trotha good riddance to -PRON- -PRON- kill so many innocent herero -PRON- die from typhoid fever in pain catch -PRON- from poison food drink more info be available here mywikibiz com lothar von trotha   \n",
       "358  new award well do the iamthecoinman -PRON- be really annoying and -PRON- be good at anti vandalism barnstar i award -PRON- the the iamthecoinman -PRON- be really annoying and -PRON- be good at anti vandalism barnstar for -PRON- multiple prompt revert to -PRON- joke protect the wiki isn t important and an unimportant task under that be protect other wikipedian -PRON- effort be much much not app...   \n",
       "375                                                                                                                                                            nothing of the kind i seek a consider determination not a defensive opinionated and punitive reflexive response from this immature cult of wikipedia geek the process of wikipedia seem to -PRON- so much rubbish so -PRON- s good luck to -PRON- all   \n",
       "396  outrageous this block be outrageous and un wiki lauren caitlin be about a trillion time more important beloved and prominent than at least of all the article subject on this joke of a site why oh why be wikipedia s administrator so freak a retentive and have such an inferiority complex and fragile ego do all of -PRON- have to ruin the fun and enthusiasm of the rest of us member just because -P...   \n",
       "399  paki one of the most ugly individual of this earth yes i mean -PRON- -PRON- s same old case of an pseudo intellectual frustrated paki -PRON- s very easy to suppress paki as repeat coup tell -PRON- poverty be not as bad for an individual as the lose of honour like -PRON- know that afganistan be a poor country but -PRON- be able to expel soviet only due to there courage but that be not the case ...   \n",
       "502                                                                                                                                                                                                                              remove irrelevant nonsense ad hominem attack in place of reasonable argument show the bankruptcy of those who which to silence -PRON- more -PRON- do more persistent i will be come   \n",
       "504  reply to vandal wakkeenah to all the vandal and so call just administrator the air date be minor problem the fact and detail surround reeve suicide be not be write well enough as everybody else be report the fact that reeves be to fight moore next day be also be revert this be pure vandalism as far as spelling go by vesa or project or whoever well if -PRON- keep on repeat -PRON- and have no ti...   \n",
       "534  some rating from the vchip the power tv pg l hell shit piss just set up the chair tv pg v the destroyer of world murder caffeinate concert ticket tv pg d lady pecs boob real reason people go to concert be too see hot girl death punchie tv pg v death kwon do rigby s bare ass free cake tv pg l pissed meat -PRON- maker tv pg l v piss cannibalistic hot dog grill cheese deluxe tv pg purple nurple s...   \n",
       "535                  some white people consider black people to be intellectually and socially inferior only white people think that let s forget about jews arabs and asian people view a whole race of people that never invent a write language in year how could anyone think -PRON- be intellectually and socially inferior be crazy must be evil white man again now i m off to listen to black mozart oh wait   \n",
       "618                                                                                                                                                                                                                                                                                    the official death certificate by russian government say dec and -PRON- other language wikipedia say same grow up will -PRON-   \n",
       "647  unblock the reason i use sockpuppet be to avoid harassment from user dibo who immediately revert all -PRON- edit and when i forget to log and brand -PRON- a sockpuppet of some previous user here which the checkuser prove do not exist i get into a revert war with user tancre and user dibo who from the contribution seem to devote -PRON- time exclusively to make trouble and aid each other in edit...   \n",
       "731                                                                                                                                                                                                                                                                          why should i assume good faith from someone add anti semitic lie to an article -PRON- obvious ignorance on the subject be not an excuse   \n",
       "743                                                                                                                                                 yea i do sorry well -PRON- fine now but thank for be smart with -PRON- dude another question ed do -PRON- own wikipedia or do have no life and think -PRON- funny to block ip adress s get back to -PRON- or will -PRON- just block -PRON- haha -PRON- prob will   \n",
       "\n",
       "     min  max  \n",
       "52     0    1  \n",
       "61     0    1  \n",
       "74     0    1  \n",
       "84     0    1  \n",
       "109    0    1  \n",
       "122    0    1  \n",
       "151    0    1  \n",
       "237    0    1  \n",
       "251    0    1  \n",
       "256    0    1  \n",
       "268    0    1  \n",
       "270    0    1  \n",
       "283    0    1  \n",
       "291    0    1  \n",
       "293    0    1  \n",
       "298    0    1  \n",
       "301    0    1  \n",
       "342    0    1  \n",
       "358    0    1  \n",
       "375    0    1  \n",
       "396    0    1  \n",
       "399    0    1  \n",
       "502    0    1  \n",
       "504    0    1  \n",
       "534    0    1  \n",
       "535    0    1  \n",
       "618    0    1  \n",
       "647    0    1  \n",
       "731    0    1  \n",
       "743    0    1  "
      ]
     },
     "metadata": {},
     "output_type": "display_data"
    }
   ],
   "source": [
    "df = df.groupby('text_lemm')['toxic'].agg(['min', 'max']).reset_index()\n",
    "df = df[df['min'] != df['max']]\n",
    "with pd.option_context('display.max_colwidth', 400):\n",
    "    display(df.head(df.shape[0]))"
   ]
  },
  {
   "cell_type": "markdown",
   "metadata": {},
   "source": [
    "Probably, these 30 texts can have a double interpretation or are marked up with errors. There is no way to unambiguously specify the correct target for them. We will remove it completely so that there is no ambiguity. For duplicates with the same targets, we will remove only repetitions"
   ]
  },
  {
   "cell_type": "code",
   "execution_count": 35,
   "metadata": {},
   "outputs": [
    {
     "name": "stdout",
     "output_type": "stream",
     "text": [
      "(159272, 4)\n",
      "(159201, 4)\n"
     ]
    }
   ],
   "source": [
    "print(data.shape)\n",
    "s = df['text_lemm']\n",
    "drop_index = data.query('text_lemm in @s').index\n",
    "data = data.drop(index = drop_index)\n",
    "print(data.shape)"
   ]
  },
  {
   "cell_type": "code",
   "execution_count": 36,
   "metadata": {},
   "outputs": [
    {
     "name": "stdout",
     "output_type": "stream",
     "text": [
      "(159201, 4)\n",
      "(157953, 4)\n"
     ]
    }
   ],
   "source": [
    "print(data.shape)\n",
    "data = data.drop_duplicates(subset='text_lemm')\n",
    "print(data.shape)"
   ]
  },
  {
   "cell_type": "code",
   "execution_count": 37,
   "metadata": {},
   "outputs": [
    {
     "name": "stderr",
     "output_type": "stream",
     "text": [
      "[nltk_data] Downloading package stopwords to /Users/dima/nltk_data...\n",
      "[nltk_data]   Package stopwords is already up-to-date!\n"
     ]
    }
   ],
   "source": [
    "nltk.download('stopwords')\n",
    "stop_words = set(stopwords.words('english'))\n",
    "\n",
    "def make_tf_idf(series):\n",
    "    count_tf_idf = TfidfVectorizer(stop_words=stop_words)\n",
    "    corpus = series#.values.astype('U')\n",
    "    tf_idf = count_tf_idf.fit_transform(corpus)\n",
    "    return tf_idf, count_tf_idf.get_feature_names_out()"
   ]
  },
  {
   "cell_type": "markdown",
   "metadata": {},
   "source": [
    "**Conclusions**\n",
    "- a little more than 1% of messages have length more than 512 words\n",
    "- selective viewing does not show unnecessary information (texts of forwarded messages, signatures, and so on)\n",
    "- presumably the emotional coloring fits into the first 512 words, you can limit the number of words when working with BERT.\n",
    "- processed short messages, some deleted\n",
    "- carried out lemmantization\n",
    "- prepared function for creating TF-IDF features"
   ]
  },
  {
   "attachments": {},
   "cell_type": "markdown",
   "metadata": {},
   "source": [
    "## Exploratory Data Analysis <a class=\"anchor\" id=\"eda\"></a>\n",
    "Let's try to get as much knowledge as possible about the proposed texts:\n",
    "- look to classes balance\n",
    "- carry out TF-IDF analisis"
   ]
  },
  {
   "attachments": {},
   "cell_type": "markdown",
   "metadata": {},
   "source": [
    "###  Classes imbalance <a class=\"anchor\" id=\"imbalance\"></a>"
   ]
  },
  {
   "cell_type": "code",
   "execution_count": 41,
   "metadata": {},
   "outputs": [
    {
     "data": {
      "image/png": "[encoded data removed]",
      "text/plain": [
       "<Figure size 432x288 with 1 Axes>"
      ]
     },
     "metadata": {
      "needs_background": "light"
     },
     "output_type": "display_data"
    }
   ],
   "source": [
    "data['toxic'].plot(kind='hist', title='Target hist');"
   ]
  },
  {
   "cell_type": "code",
   "execution_count": 42,
   "metadata": {},
   "outputs": [
    {
     "data": {
      "text/plain": [
       "0    0.898533\n",
       "1    0.101467\n",
       "Name: toxic, dtype: float64"
      ]
     },
     "execution_count": 42,
     "metadata": {},
     "output_type": "execute_result"
    }
   ],
   "source": [
    "data['toxic'].value_counts(normalize=True)"
   ]
  },
  {
   "cell_type": "markdown",
   "metadata": {},
   "source": [
    "**Resume** We have an imbalance of classes, we will use the F1 metric. If possible, take into account the imbalance of classes during modeling"
   ]
  },
  {
   "attachments": {},
   "cell_type": "markdown",
   "metadata": {
    "tags": []
   },
   "source": [
    "### Frequency analysis <a class=\"anchor\" id=\"freq\"></a>"
   ]
  },
  {
   "cell_type": "code",
   "execution_count": 43,
   "metadata": {},
   "outputs": [],
   "source": [
    "def tf_idf_analysis(series, exclude_list = []):\n",
    "    tf_idf, names = make_tf_idf(series)\n",
    "    M = np.mean(tf_idf, axis=0)\n",
    "    tf_idf_mean = np.squeeze(np.asarray(M))\n",
    "    tf_idf_df = pd.DataFrame()\n",
    "    tf_idf_df['word'] = names\n",
    "    tf_idf_df['value'] = tf_idf_mean\n",
    "    tf_idf_df = tf_idf_df.query('word not in @exclude_list')\n",
    "    return tf_idf_df"
   ]
  },
  {
   "cell_type": "code",
   "execution_count": 44,
   "metadata": {},
   "outputs": [],
   "source": [
    "def make_counts(series):\n",
    "    count_vect = CountVectorizer()\n",
    "    corpus = series#.values.astype('U')\n",
    "    bow = count_vect.fit_transform(corpus)\n",
    "    return bow, count_vect.get_feature_names_out()"
   ]
  },
  {
   "cell_type": "code",
   "execution_count": 45,
   "metadata": {},
   "outputs": [],
   "source": [
    "def counts_analysis(series, exclude_list = []):\n",
    "    counts, names = make_counts(series)\n",
    "    M = np.mean(counts, axis=0)\n",
    "    counts_mean = np.squeeze(np.asarray(M))\n",
    "    counts_df = pd.DataFrame()\n",
    "    counts_df['word'] = names\n",
    "    counts_df['value'] = counts_mean\n",
    "    counts_df = counts_df.query('word not in @exclude_list')\n",
    "    return counts_df"
   ]
  },
  {
   "cell_type": "code",
   "execution_count": 46,
   "metadata": {},
   "outputs": [],
   "source": [
    "def make_analysis(func, title, exclude_list = ['pron'], words = 25, ax=None, samples=None):\n",
    "    \n",
    "    global data\n",
    "    \n",
    "    if (samples == None):\n",
    "        samples = data.shape[0]\n",
    "    \n",
    "    df0 = (\n",
    "        func(data[data['toxic'] == 0]['text_lemm'].head(samples), exclude_list = exclude_list)\n",
    "            .sort_values(by='value', ascending=False)\n",
    "            .head(words)\n",
    "            .iloc[::-1]\n",
    "            .set_index('word')\n",
    "    )\n",
    "\n",
    "    df1 = (\n",
    "        func(data[data['toxic'] == 1]['text_lemm'].head(samples), exclude_list = exclude_list)\n",
    "            .sort_values(by='value', ascending=False)\n",
    "            .head(words)\n",
    "            .iloc[::-1]\n",
    "            .set_index('word')\n",
    "    )\n",
    "\n",
    "    df = df1.join(df0, how='outer', lsuffix='toxic', rsuffix='not_toxic')\n",
    "    df.columns = ['Toxic', 'Not toxic']\n",
    "    df['word'] = df.index\n",
    "    df = df.sort_values(by='Toxic', ascending=False).iloc[::-1]\n",
    "    df.plot(kind='barh', x='word', y=['Toxic', 'Not toxic'], title=title, ax=ax, color=['red', 'green']);"
   ]
  },
  {
   "cell_type": "code",
   "execution_count": 47,
   "metadata": {},
   "outputs": [
    {
     "data": {
      "image/png": "[encoded data removed]",
      "text/plain": [
       "<Figure size 864x792 with 2 Axes>"
      ]
     },
     "metadata": {
      "needs_background": "light"
     },
     "output_type": "display_data"
    }
   ],
   "source": [
    "fig, axs = plt.subplots(1, 2, figsize = (12,11))\n",
    "\n",
    "make_analysis(tf_idf_analysis, 'TF-IDF', ax=axs[0], words=22)\n",
    "make_analysis(counts_analysis, 'Words frequency', ax=axs[1], words=22)"
   ]
  },
  {
   "cell_type": "markdown",
   "metadata": {},
   "source": [
    "**Resume** There are differences in features. More significant differences have TF-IDF features at the first look. "
   ]
  },
  {
   "attachments": {},
   "cell_type": "markdown",
   "metadata": {},
   "source": [
    "### Keywords discovery <a class=\"anchor\" id=\"keywords\"></a>"
   ]
  },
  {
   "cell_type": "markdown",
   "metadata": {},
   "source": [
    "Let's find keywords for using in simple model"
   ]
  },
  {
   "attachments": {},
   "cell_type": "markdown",
   "metadata": {},
   "source": [
    "#### KeyBERT library <a class=\"anchor\" id=\"keybert\"></a>"
   ]
  },
  {
   "cell_type": "code",
   "execution_count": 48,
   "metadata": {},
   "outputs": [
    {
     "name": "stderr",
     "output_type": "stream",
     "text": [
      "Some weights of the model checkpoint at unitary/toxic-bert were not used when initializing BertModel: ['classifier.bias', 'classifier.weight']\n",
      "- This IS expected if you are initializing BertModel from the checkpoint of a model trained on another task or with another architecture (e.g. initializing a BertForSequenceClassification model from a BertForPreTraining model).\n",
      "- This IS NOT expected if you are initializing BertModel from the checkpoint of a model that you expect to be exactly identical (initializing a BertForSequenceClassification model from a BertForSequenceClassification model).\n"
     ]
    }
   ],
   "source": [
    "model_name = 'unitary/toxic-bert'\n",
    "hf_model = transformers.pipelines.pipeline(\"feature-extraction\", model=model_name)\n",
    "kw_model = KeyBERT(model=hf_model)"
   ]
  },
  {
   "cell_type": "code",
   "execution_count": 49,
   "metadata": {},
   "outputs": [],
   "source": [
    "def get_keywords(series, top_n=5):\n",
    "    text = pd.Series(series.str.replace('-PRON-', '').str.cat(sep=' '))\n",
    "    text = text.apply(lambda x: ' '.join(x.split()[:400]))\n",
    "    return kw_model.extract_keywords(text, top_n=top_n)"
   ]
  },
  {
   "cell_type": "code",
   "execution_count": 54,
   "metadata": {},
   "outputs": [
    {
     "name": "stdout",
     "output_type": "stream",
     "text": [
      "CPU times: user 10.8 s, sys: 1.26 s, total: 12 s\n",
      "Wall time: 2min 11s\n"
     ]
    },
    {
     "data": {
      "text/plain": [
       "[('make', 0.9322),\n",
       " ('don', 0.9296),\n",
       " ('guy', 0.927),\n",
       " ('bikash', 0.9265),\n",
       " ('upper', 0.9243),\n",
       " ('ve', 0.9228),\n",
       " ('potentate', 0.922),\n",
       " ('let', 0.9209),\n",
       " ('turn', 0.9199),\n",
       " ('govern', 0.9196)]"
      ]
     },
     "execution_count": 54,
     "metadata": {},
     "output_type": "execute_result"
    }
   ],
   "source": [
    "%%time\n",
    "kw_nontoxic = get_keywords(data[data['toxic']==0].sample(50, random_state=RANDOM_STATE)['text_lemm'], top_n=10)\n",
    "kw_nontoxic"
   ]
  },
  {
   "cell_type": "code",
   "execution_count": 55,
   "metadata": {},
   "outputs": [],
   "source": [
    "kw_nontoxic = [x[0] for x in kw_nontoxic]"
   ]
  },
  {
   "cell_type": "code",
   "execution_count": 58,
   "metadata": {},
   "outputs": [
    {
     "name": "stdout",
     "output_type": "stream",
     "text": [
      "CPU times: user 9.58 s, sys: 616 ms, total: 10.2 s\n",
      "Wall time: 1min 58s\n"
     ]
    },
    {
     "data": {
      "text/plain": [
       "[('nigger', 0.6521),\n",
       " ('dildo', 0.5821),\n",
       " ('cunt', 0.5165),\n",
       " ('homosexual', 0.495),\n",
       " ('gay', 0.4724),\n",
       " ('vagoo', 0.4696),\n",
       " ('fat', 0.4336),\n",
       " ('suck', 0.4315),\n",
       " ('jerk', 0.4241),\n",
       " ('ass', 0.4228),\n",
       " ('pussy', 0.4167),\n",
       " ('rectum', 0.4159),\n",
       " ('stupidity', 0.4158),\n",
       " ('shitty', 0.4125),\n",
       " ('bullshit', 0.4006),\n",
       " ('cock', 0.393),\n",
       " ('shit', 0.3862),\n",
       " ('fucker', 0.3858),\n",
       " ('fucking', 0.3798),\n",
       " ('rot', 0.3793),\n",
       " ('ponos', 0.3733),\n",
       " ('fuck', 0.3715),\n",
       " ('wanker', 0.3009),\n",
       " ('pow', 0.2496),\n",
       " ('troll', 0.2487),\n",
       " ('loser', 0.2396),\n",
       " ('starve', 0.2279),\n",
       " ('penetrate', 0.2107),\n",
       " ('drunk', 0.198),\n",
       " ('piece', 0.1803)]"
      ]
     },
     "execution_count": 58,
     "metadata": {},
     "output_type": "execute_result"
    }
   ],
   "source": [
    "%%time\n",
    "kw_toxic = get_keywords(data[data['toxic']==1].sample(100, random_state=RANDOM_STATE)['text_lemm'], top_n=30)\n",
    "kw_toxic"
   ]
  },
  {
   "cell_type": "code",
   "execution_count": 59,
   "metadata": {},
   "outputs": [],
   "source": [
    "kw_toxic = [x[0] for x in kw_toxic]"
   ]
  },
  {
   "cell_type": "markdown",
   "metadata": {},
   "source": [
    "**Resume** No so good. Slow"
   ]
  },
  {
   "cell_type": "markdown",
   "metadata": {},
   "source": [
    "#### Simple keywords extraction using TF-IDF"
   ]
  },
  {
   "cell_type": "code",
   "execution_count": 60,
   "metadata": {},
   "outputs": [],
   "source": [
    "key_words_simple = ['fuck', 'shit', 'fucking', 'suck', 'bitch', 'stupid', 'ass']"
   ]
  },
  {
   "cell_type": "markdown",
   "metadata": {},
   "source": [
    "#### Using open source"
   ]
  },
  {
   "cell_type": "code",
   "execution_count": 61,
   "metadata": {},
   "outputs": [],
   "source": [
    "# https://en.wiktionary.org/wiki/Category:English_swear_words\n",
    "swear_words = ['arse', 'arsehead', 'arsehole', 'ass', 'asshole', \n",
    "              'bastard', 'bitch', 'bloody', 'bollocks', 'brotherfucker', 'bugger', 'bullshit', \n",
    "              'child-fucker', 'cock', 'cocksucker', 'crap', 'cunt', \n",
    "              'damn', 'dick', 'dickhead', 'dyke',\n",
    "              'fatherfucker', 'frigger', 'fuck', 'fucking',\n",
    "              'goddamn', 'godsdamn', 'hell', 'horseshit', 'kike', 'motherfucker', \n",
    "              'nigga', 'nigra', 'piss', 'prick', 'pussy', 'shit', 'shite',\n",
    "              'sisterfucker', 'slut', 'spastic', 'twat', 'wanker']"
   ]
  },
  {
   "attachments": {},
   "cell_type": "markdown",
   "metadata": {},
   "source": [
    "#### Create custom analysis <a class=\"anchor\" id=\"custom\"></a>\n",
    "\n",
    "Let's conduct **our own analysis** of keywords (we will prepare in a general form for more than one class):\n",
    "- for each class for all words we find:\n",
    "     - frequency of use *within* the class\n",
    "     - frequency of use *outside* class\n",
    "     - *ratio* of frequency inside *class* and *out* of class\n",
    "- now for each class we sort the words by *relative* frequencies, exclude from the list, sort in descending order, look and take the TOP-N\n",
    "- as a result, we get for each class a list of words specific to this class\n",
    "- two modifications can be made\n",
    "     - frequency of words in the corpus\n",
    "     - the number of texts in the corpus with a given word\n",
    "\n",
    "As a result, we already have the sets `kw_nontoxic`, `kw_toxic`, `key_words_simple`, `swear_words` and plus two more from this algorithm. Then we get 2^N-1 combinations of keyword sets, which we combine into one and will be used in the keyword model. "
   ]
  },
  {
   "cell_type": "code",
   "execution_count": 62,
   "metadata": {},
   "outputs": [],
   "source": [
    "def make_freq_dict(series, count_type):\n",
    "    \"\"\"Returns a dictionary where the keys are words and the values are the frequency in the text\"\"\"\n",
    "\n",
    "    counts, names = make_counts(series)\n",
    "    \n",
    "    if count_type == 'word':\n",
    "        M = np.sum(counts, axis=0)\n",
    "    elif count_type == 'text':\n",
    "        M = np.sum(counts.astype(bool), axis=0)\n",
    "        \n",
    "    freqs = np.squeeze(np.asarray(M)) / series.shape[0]\n",
    "    \n",
    "    ret = {}\n",
    "    for i in range(len(names)):\n",
    "        if (freqs[i] > 0):\n",
    "            ret[names[i]] = freqs[i]\n",
    "            \n",
    "    return ret\n",
    "\n",
    "def kw_process(df, target, target_column, text_column, n_max=50, n_min=10, min_weight=50, count_type='word'):\n",
    "    \"\"\" \n",
    "    Discover class specific keywords\n",
    "        (in cases of binary classification, it can be accelerated by swapping inside and outside for the second class)\n",
    "    \n",
    "    Parameters:\n",
    "        df - DataFrame\n",
    "        target - target value\n",
    "        target_column - target column\n",
    "        text_column - column with lemmatized text\n",
    "        n_max - max count of keywords returned by function\n",
    "        n_min - min count of keywords returned by function (if possible)\n",
    "        min_weight - min weight of keyword\n",
    "        count_type = ['word', 'text'] - function count the number of words or the number of texts with a word\n",
    "        \n",
    "    Return (kw_list, kw_weight)\n",
    "        kw_list - list of keyword ordered by relevant descending\n",
    "        kw_weight - list of weightss\n",
    "        \"\"\"\n",
    "    \n",
    "    # get frequency dictionaries inside the class and outside the class\n",
    "    inside = make_freq_dict(df[df[target_column] == target][text_column], count_type)\n",
    "    outside = make_freq_dict(df[df[target_column] != target][text_column], count_type)\n",
    "    names = [x for x in inside.keys()]\n",
    "\n",
    "    # get words rating\n",
    "    mf = min([x for x in outside.values()]) # защита от деления на ноль\n",
    "    ratio = [inside[w]/(outside.get(w, 0)+mf) for w in inside]\n",
    "    \n",
    "    # sorting\n",
    "    sorter = np.argsort(ratio)[::-1]\n",
    "    \n",
    "    # update returned word's count variables\n",
    "    for i in range(n_max)[::-1]:\n",
    "        if ratio[sorter[i]] < min_weight:\n",
    "            n_max = i\n",
    "    if n_max < n_min:\n",
    "        n_max = n_min\n",
    "    if n_max > len(ratio):\n",
    "        n_max = len(ratio)\n",
    "        \n",
    "    # get result lists\n",
    "    kw_list = [names[sorter[i]] for i in range(n_max)] \n",
    "    kw_weight = [ratio[sorter[i]] for i in range(n_max)] \n",
    "            \n",
    "    return (kw_list, kw_weight)"
   ]
  },
  {
   "cell_type": "code",
   "execution_count": 63,
   "metadata": {},
   "outputs": [
    {
     "name": "stdout",
     "output_type": "stream",
     "text": [
      "CPU times: user 9.38 s, sys: 390 ms, total: 9.77 s\n",
      "Wall time: 10 s\n"
     ]
    },
    {
     "data": {
      "text/plain": [
       "['fucksex',\n",
       " 'yourselfgo',\n",
       " 'cocksucker',\n",
       " 'buttsecks',\n",
       " 'mothjer',\n",
       " 'fggt',\n",
       " 'bastere',\n",
       " 'boobs',\n",
       " 'offfuck',\n",
       " 'niggas',\n",
       " 'bitches',\n",
       " 'sexsex',\n",
       " 'notrhbysouthbanof',\n",
       " 'criminalwar',\n",
       " 'bunksteve',\n",
       " 'marcolfuck',\n",
       " 'fack',\n",
       " 'noobs',\n",
       " 'securityfuck',\n",
       " 'cuntbag',\n",
       " 'youbollock',\n",
       " 'ancestryfuck',\n",
       " 'cocksucke',\n",
       " 'licker',\n",
       " 'nhrhs',\n",
       " 'motherfucker',\n",
       " 'fuckin',\n",
       " 'shitfuck',\n",
       " 'faggot',\n",
       " 'centraliststupid',\n",
       " 'fucker',\n",
       " 'supertr',\n",
       " 'bleachanhero',\n",
       " 'aidsaids',\n",
       " 'bitchmattythewhite',\n",
       " 'yaaaa',\n",
       " 'haahhahahah',\n",
       " 'biznitch',\n",
       " 'chocobos',\n",
       " 'dickhead',\n",
       " 'cuntliz',\n",
       " 'chula',\n",
       " 'veggietale',\n",
       " 'phuq',\n",
       " 'pensnsnniensnsn',\n",
       " 'pennnis',\n",
       " 'pneis',\n",
       " 'uuuuuu',\n",
       " 'itsuck',\n",
       " 'kkkkkk']"
      ]
     },
     "execution_count": 63,
     "metadata": {},
     "output_type": "execute_result"
    }
   ],
   "source": [
    "%%time\n",
    "kw_list, kw_weight = kw_process(data, target=1, \n",
    "                               target_column='toxic', text_column='text_lemm', \n",
    "                               n_max=50)\n",
    "kw_list"
   ]
  },
  {
   "cell_type": "code",
   "execution_count": 64,
   "metadata": {},
   "outputs": [
    {
     "name": "stdout",
     "output_type": "stream",
     "text": [
      "CPU times: user 9.76 s, sys: 395 ms, total: 10.2 s\n",
      "Wall time: 10.6 s\n"
     ]
    },
    {
     "data": {
      "text/plain": [
       "['tacos',\n",
       " 'fffa',\n",
       " 'specify',\n",
       " 'newsletter',\n",
       " 'philippineslong',\n",
       " 'cellpadding',\n",
       " 'nikko',\n",
       " 'tutorial',\n",
       " 'deneid',\n",
       " 'vertical']"
      ]
     },
     "execution_count": 64,
     "metadata": {},
     "output_type": "execute_result"
    }
   ],
   "source": [
    "%%time\n",
    "kw_list, kw_weight = kw_process(data, target=0, \n",
    "                               target_column='toxic', text_column='text_lemm', \n",
    "                               n_max=50, n_min=10, min_weight=100)\n",
    "kw_list"
   ]
  },
  {
   "cell_type": "markdown",
   "metadata": {
    "jp-MarkdownHeadingCollapsed": true,
    "tags": []
   },
   "source": [
    "**Resume by keyword search algorithm:**\n",
    "- It got a lot better) Toxic words are chosen.\n",
    "- And it works fast\n",
    "- Curiously, there are no keywords in normal speech (10 words are derived exclusively from the `n_min=10` parameter). Their weight is significant less compared to toxic.\n",
    "- Actually, the best result for keywords was given by the analysis of the weights of the trained linear regression by frequency features"
   ]
  },
  {
   "attachments": {},
   "cell_type": "markdown",
   "metadata": {},
   "source": [
    "### Text length <a class=\"anchor\" id=\"len\"></a>\n",
    "Compare the mean words count in the classes"
   ]
  },
  {
   "cell_type": "code",
   "execution_count": 65,
   "metadata": {},
   "outputs": [
    {
     "name": "stdout",
     "output_type": "stream",
     "text": [
      "54.27328882510763\n",
      "69.86441525865592\n"
     ]
    }
   ],
   "source": [
    "data['word_count'] = data['text_lemm'].apply(lambda x: len(str(x).split()))\n",
    "print(data[data['toxic']==1]['word_count'].mean())\n",
    "print(data[data['toxic']==0]['word_count'].mean())"
   ]
  },
  {
   "cell_type": "code",
   "execution_count": 66,
   "metadata": {
    "scrolled": true
   },
   "outputs": [
    {
     "data": {
      "image/png": "[encoded data removed]",
      "text/plain": [
       "<Figure size 720x288 with 2 Axes>"
      ]
     },
     "metadata": {
      "needs_background": "light"
     },
     "output_type": "display_data"
    }
   ],
   "source": [
    "fig, (ax1,ax2) = plt.subplots(1,2, figsize=(10,4))\n",
    "\n",
    "data[data['toxic']==1]['word_count'].plot(kind='hist', bins=30, color='red', ax=ax1, title='Toxic')\n",
    "data[data['toxic']==0]['word_count'].plot(kind='hist', bins=30, color='green', ax=ax2, title='No Toxic')\n",
    "\n",
    "fig.suptitle('Words per tweet')\n",
    "plt.show()"
   ]
  },
  {
   "cell_type": "code",
   "execution_count": 67,
   "metadata": {},
   "outputs": [
    {
     "name": "stdout",
     "output_type": "stream",
     "text": [
      "303.02383477881074\n",
      "404.8283119372067\n"
     ]
    }
   ],
   "source": [
    "data['char_count'] = data['text'].apply(lambda x: len(str(x)))\n",
    "print(data[data['toxic']==1]['char_count'].mean())\n",
    "print(data[data['toxic']==0]['char_count'].mean())"
   ]
  },
  {
   "cell_type": "markdown",
   "metadata": {},
   "source": [
    "**Resume** The distribution of the number of words in the texts is similar. Non-toxic texts are longer, logical."
   ]
  },
  {
   "cell_type": "markdown",
   "metadata": {},
   "source": [
    "### EDA Conclusions\n",
    "- there is a class imbalance\n",
    "- there is a class difference in TF-IDF\n",
    "- there is a class difference in word frequencies\n",
    "- visually the difference between ghosts in TF-IDF is more significant\n",
    "- prepared lists of keywords in different ways\n",
    "- prepared an algorithm for identifying class-specific keywords\n",
    "- non-toxic messages are on average longer (differences are not significant enough to be used as a feature)"
   ]
  },
  {
   "attachments": {},
   "cell_type": "markdown",
   "metadata": {},
   "source": [
    "## Modeling <a class=\"anchor\" id=\"model\"></a>"
   ]
  },
  {
   "cell_type": "markdown",
   "metadata": {},
   "source": [
    "We will try several approach:\n",
    "- baseline based on keywords\n",
    "- logistic regression based frequency features\n",
    "- RF, LGBT, XGB...\n",
    "- BERT as embedding\n",
    "- Universal Sentence Encoder as embending\n",
    "- BERT with fine tuning (learning)\n",
    "- specific BERT model as embending\n",
    "- ensamble"
   ]
  },
  {
   "attachments": {},
   "cell_type": "markdown",
   "metadata": {},
   "source": [
    "### Struggle with imbalance <a class=\"anchor\" id=\"model-imbalance\"></a>"
   ]
  },
  {
   "cell_type": "markdown",
   "metadata": {},
   "source": [
    "We have imbalance in target classed. Only 10% of texts is tixoc.\n",
    "\n",
    "Strategies:\n",
    "- Split with stratification by target class\n",
    "- Syntetic generation  https://rikunert.com/SMOTE_explained (we didn't use in this case)\n",
    "- Undersampling\n",
    "- Oversampling\n",
    "- Use class weightes"
   ]
  },
  {
   "cell_type": "markdown",
   "metadata": {},
   "source": [
    "### Train-Test Split\n",
    "\n",
    "- Train (60%)\n",
    "- Validation (20%)\n",
    "- Test (20%)\n",
    "\n",
    "We don't use CV because heavy models will be trained too long and light models wouldn't in leaders anyway."
   ]
  },
  {
   "cell_type": "code",
   "execution_count": 10,
   "metadata": {},
   "outputs": [],
   "source": [
    "# save dataset to moving to GPU server\n",
    "try:\n",
    "    data.to_csv('data_toxic_comments.csv')\n",
    "except:\n",
    "    pass"
   ]
  },
  {
   "cell_type": "code",
   "execution_count": 81,
   "metadata": {},
   "outputs": [
    {
     "name": "stdout",
     "output_type": "stream",
     "text": [
      "train_f shape =  (94771, 5)\n",
      "train_t shape =  (94771,)\n",
      "valid_f shape =  (31591, 5)\n",
      "valid_t shape =  (31591,)\n",
      "test_f shape =  (31591, 5)\n",
      "test_t shape =  (31591,)\n"
     ]
    }
   ],
   "source": [
    "data_f = data.drop(columns=['toxic'])\n",
    "data_t = data['toxic']\n",
    "\n",
    "train_valid_f, test_f, train_valid_t, test_t = train_test_split(data_f, data_t, \n",
    "                                                  train_size=0.80, random_state=random_state, stratify=data_t)\n",
    "train_f, valid_f, train_t, valid_t = train_test_split(train_valid_f, train_valid_t, \n",
    "                                                    train_size=0.75, random_state=random_state, stratify=train_valid_t)\n",
    "\n",
    "print('train_f shape = ', train_f.shape)\n",
    "print('train_t shape = ', train_t.shape)\n",
    "print('valid_f shape = ', valid_f.shape)\n",
    "print('valid_t shape = ', valid_t.shape)\n",
    "print('test_f shape = ', test_f.shape)\n",
    "print('test_t shape = ', test_t.shape)"
   ]
  },
  {
   "cell_type": "code",
   "execution_count": 82,
   "metadata": {},
   "outputs": [],
   "source": [
    "def eval_model(model, df_f, df_t):\n",
    "    predict = model.predict(df_f)\n",
    "    print(classification_report(df_t, predict))\n",
    "    return f1_score(df_t, predict)\n",
    "    \n",
    "def train_model(model, train_f=train_f, train_t=train_t, valid_f=valid_f, valid_t=valid_t):\n",
    "    model.fit(train_f, train_t)\n",
    "    f1_valid = eval_model(model, valid_f, valid_t)\n",
    "    print('f1 valid =', f1_valid)\n",
    "    return (model, f1_valid)"
   ]
  },
  {
   "cell_type": "code",
   "execution_count": 83,
   "metadata": {},
   "outputs": [],
   "source": [
    "stat = {}"
   ]
  },
  {
   "cell_type": "code",
   "execution_count": 84,
   "metadata": {},
   "outputs": [],
   "source": [
    "class DummyModel():\n",
    "    def __init__(self, strategy='prior'):\n",
    "        self.dummy = DummyClassifier(strategy=strategy)\n",
    "        \n",
    "    def fit(self, df_f, df_t):\n",
    "        self.dummy.fit(df_f, df_t)\n",
    "        \n",
    "    def predict(self, df_f):\n",
    "        return self.dummy.predict(df_f)"
   ]
  },
  {
   "cell_type": "code",
   "execution_count": 85,
   "metadata": {},
   "outputs": [
    {
     "name": "stdout",
     "output_type": "stream",
     "text": [
      "              precision    recall  f1-score   support\n",
      "\n",
      "           0       0.90      0.51      0.65     28385\n",
      "           1       0.10      0.49      0.17      3206\n",
      "\n",
      "    accuracy                           0.50     31591\n",
      "   macro avg       0.50      0.50      0.41     31591\n",
      "weighted avg       0.82      0.50      0.60     31591\n",
      "\n",
      "f1 valid = 0.16806544141081484\n"
     ]
    }
   ],
   "source": [
    "res = train_model(DummyModel(strategy='uniform'))"
   ]
  },
  {
   "cell_type": "code",
   "execution_count": 86,
   "metadata": {},
   "outputs": [],
   "source": [
    "stat['Dummy'] = res"
   ]
  },
  {
   "attachments": {},
   "cell_type": "markdown",
   "metadata": {},
   "source": [
    "### Model based on keywords <a class=\"anchor\" id=\"model-keywords\"></a>\n",
    "We have few keywords sets: `kw_nontoxic`, `kw_toxic`, `key_words_simple`, `swear_words` and two from algorithm. For each keyword we make feature that indicate thare is this keyword in text or no. And then fit linear regression"
   ]
  },
  {
   "cell_type": "code",
   "execution_count": 87,
   "metadata": {},
   "outputs": [],
   "source": [
    "class KwModel():\n",
    "    def __init__(self, auto=True, additional_keywords=[],\n",
    "                 n_max=50, n_min=10, min_weight=100, max_iter=5000, count_type='word'):\n",
    "        \"\"\"\n",
    "        How to generate keywords:\n",
    "            auto - autimatically creation of keywords\n",
    "            n_max - maximum count of keywords\n",
    "            n_max - minimal count of keywords\n",
    "            min_weight - minimal keyword weight\n",
    "            count_type = ['word', 'text'] - count words or texts\n",
    "        \"\"\"\n",
    "        self.auto = auto\n",
    "        self.additional_keywords = additional_keywords\n",
    "        self.n_max = n_max\n",
    "        self.n_min = n_min\n",
    "        self.min_weight = min_weight\n",
    "        self.max_iter = max_iter\n",
    "        self.count_type = count_type\n",
    "        \n",
    "        self.text_column = 'text_lemm'\n",
    "        self.target_column = 'toxic'\n",
    "        \n",
    "    def make_features(self, df):\n",
    "        cache = df[self.text_column].apply(lambda x: x.split())\n",
    "        for kw in self.kw_set:\n",
    "            df[kw] = cache.apply(lambda x: kw in x)\n",
    "        return df.drop(columns=[self.text_column], errors='ignore')\n",
    "        \n",
    "    def fit(self, df_f, df_t):\n",
    "        df_f = df_f[[self.text_column]].copy()\n",
    "        \n",
    "        self.kw_set = self.additional_keywords\n",
    "        if self.auto:\n",
    "            for y in df_t.unique():\n",
    "                kw, _ = kw_process(df_f.join(df_t), target=y, \n",
    "                                   target_column=self.target_column, text_column=self.text_column, \n",
    "                                   n_max=(self.n_max if type(self.n_max) == int else self.n_max[y]), \n",
    "                                   n_min=(self.n_min if type(self.n_min) == int else self.n_min[y]), \n",
    "                                   min_weight=(self.min_weight if type(self.min_weight) == int else self.min_weight[y]),\n",
    "                                   count_type=(self.count_type if type(self.count_type) == str else self.count_type[y]))\n",
    "                self.kw_set = self.kw_set + kw\n",
    "                \n",
    "        df_f = self.make_features(df_f)\n",
    "        \n",
    "        self.model = LogisticRegression(max_iter=self.max_iter, class_weight='balanced')\n",
    "        self.model.fit(df_f, df_t)\n",
    "        \n",
    "    def predict(self, df_f):\n",
    "        df_f = df_f[['text_lemm']].copy()\n",
    "        df_f = self.make_features(df_f)\n",
    "        return self.model.predict(df_f)"
   ]
  },
  {
   "cell_type": "code",
   "execution_count": 88,
   "metadata": {},
   "outputs": [
    {
     "name": "stdout",
     "output_type": "stream",
     "text": [
      "              precision    recall  f1-score   support\n",
      "\n",
      "           0       0.96      0.98      0.97     28385\n",
      "           1       0.82      0.63      0.71      3206\n",
      "\n",
      "    accuracy                           0.95     31591\n",
      "   macro avg       0.89      0.81      0.84     31591\n",
      "weighted avg       0.95      0.95      0.95     31591\n",
      "\n",
      "f1 valid = 0.7125420130903944\n",
      "CPU times: user 3min 52s, sys: 4.51 s, total: 3min 57s\n",
      "Wall time: 3min 19s\n"
     ]
    }
   ],
   "source": [
    "%%time\n",
    "\n",
    "# n_max=..., n_min=..., min_weight=..., max_iter=...\n",
    "# keywords: auto, kw_nontoxic, kw_toxic, key_words_simple, swear_words\n",
    "# count_type = ['word', 'text']\n",
    "#res = train_model(KwModel(n_max=150, n_min=10))\n",
    "res = train_model(KwModel(n_max=500, n_min=5, min_weight=5, count_type='text'))"
   ]
  },
  {
   "cell_type": "code",
   "execution_count": 89,
   "metadata": {},
   "outputs": [],
   "source": [
    "stat['KW'] = res"
   ]
  },
  {
   "cell_type": "markdown",
   "metadata": {},
   "source": [
    "**Resume**\n",
    "- Automatically keyword generation allow to build algorithm with f1=0.71\n",
    "- Keywords sets reting:\n",
    "    - **0.05** `kw_nontoxic` + `kw_toxic` - very low!\n",
    "    - **0.56** `key_words_simple` - just few words that we select based on plots!\n",
    "    - **0.57** `swear_words` - not bad because set downloaded without any analytics\n",
    "    - **0.60** `kw_nontoxic` + `kw_toxic` + `key_words_simple` + `swear_words` \n",
    "    - **0.71** `auto` - the best\n",
    "    - **0.71** `auto` + `kw_nontoxic` + `kw_toxic` + `key_words_simple` + `swear_words`\n",
    "- Keywords count more that 500 don't increase metric"
   ]
  },
  {
   "attachments": {},
   "cell_type": "markdown",
   "metadata": {},
   "source": [
    "### Logistic regression base frequency features <a class=\"anchor\" id=\"lr\"></a>\n",
    "- count vectorizer\n",
    "- tf-idf vectorizer"
   ]
  },
  {
   "cell_type": "code",
   "execution_count": 90,
   "metadata": {},
   "outputs": [],
   "source": [
    "class CountModel():\n",
    "\n",
    "    def fit(self, df_f, df_t):\n",
    "        self.vect = CountVectorizer() # ngram_range=(1, 2), min_df=0.0001, stop_words=stop_words\n",
    "        self.model = LogisticRegression(max_iter=5000, class_weight='balanced')\n",
    "        self.pipe = ib.pipeline.Pipeline([\n",
    "            ('vect', self.vect), \n",
    "            #('tfidf', TfidfVectorizer(ngram_range=(1, 2))),\n",
    "            #('sam', RandomOverSampler(random_state=random_state)),\n",
    "            #('sam', RandomUnderSampler(random_state=random_state)),\n",
    "            ('model', self.model)\n",
    "        ])\n",
    "        \n",
    "        self.pipe.fit(df_f['text_lemm'], df_t)\n",
    "        \n",
    "    def get_model(self):\n",
    "        return self.vect, self.model\n",
    "        \n",
    "    def predict_proba(self, df_f):\n",
    "        return self.pipe.predict_proba(df_f['text_lemm'])[:,1]\n",
    "    \n",
    "    def predict(self, df_f):\n",
    "        return [1 if y > 0.65 else 0 for y in self.pipe.predict_proba(df_f['text_lemm'])[:,1]]"
   ]
  },
  {
   "cell_type": "code",
   "execution_count": 91,
   "metadata": {},
   "outputs": [
    {
     "name": "stdout",
     "output_type": "stream",
     "text": [
      "              precision    recall  f1-score   support\n",
      "\n",
      "           0       0.98      0.97      0.97     28385\n",
      "           1       0.77      0.78      0.78      3206\n",
      "\n",
      "    accuracy                           0.95     31591\n",
      "   macro avg       0.87      0.88      0.88     31591\n",
      "weighted avg       0.95      0.95      0.95     31591\n",
      "\n",
      "f1 valid = 0.777121541809139\n",
      "CPU times: user 4min 3s, sys: 1min 8s, total: 5min 12s\n",
      "Wall time: 51.7 s\n"
     ]
    }
   ],
   "source": [
    "%%time\n",
    "res = train_model(CountModel())"
   ]
  },
  {
   "cell_type": "code",
   "execution_count": 92,
   "metadata": {},
   "outputs": [],
   "source": [
    "stat['Counts'] = res"
   ]
  },
  {
   "cell_type": "code",
   "execution_count": 93,
   "metadata": {},
   "outputs": [
    {
     "name": "stdout",
     "output_type": "stream",
     "text": [
      "['fuck' 'faggot' 'fucking' 'shit' 'idiot' 'bitch' 'asshole' 'bullshit'\n",
      " 'ass' 'cunt' 'suck' 'stupid' 'bastard' 'idiotic' 'moron' 'dick' 'penis'\n",
      " 'dumbass' 'motherfucker' 'fucker' 'pussy' 'nigger' 'crap' 'dickhead'\n",
      " 'fuckhead' 'retard' 'fag' 'jackass' 'jerk' 'wtf']\n"
     ]
    }
   ],
   "source": [
    "vect, model = res[0].get_model()\n",
    "names = vect.get_feature_names_out()\n",
    "weights = model.coef_\n",
    "\n",
    "n = 30\n",
    "weights = abs(weights[0])\n",
    "ind = np.argpartition(weights, -n)[-n:] # алгоритм линейной сложности поиска top n без сортировки\n",
    "ind = ind[np.argsort(weights[ind])][::-1] # сортировка по убыванию\n",
    "\n",
    "# print(weights[0][ind])\n",
    "print(names[ind])"
   ]
  },
  {
   "cell_type": "markdown",
   "metadata": {},
   "source": [
    "**Resume:** \n",
    "- Count vectorizer plus LR has F1 = **0.77**, good\n",
    "- TF-IDF vectorizer plus LR has F1 = **0.74**\n",
    "- The best method extract keywords is interpritation of weightes of fitted logistic regression"
   ]
  },
  {
   "attachments": {},
   "cell_type": "markdown",
   "metadata": {},
   "source": [
    "### RF, LGBT, XGB... <a class=\"anchor\" id=\"boost\"></a>\n",
    "We don't expect good quality of trees algorithms in this case"
   ]
  },
  {
   "cell_type": "code",
   "execution_count": 11,
   "metadata": {},
   "outputs": [],
   "source": [
    "class LGBTModel():\n",
    "\n",
    "    def fit(self, df_f, df_t):\n",
    "        \n",
    "        # ngram_range=(1, 2), min_df=0.0001, stop_words=stop_words\n",
    "        #self.vect = CountVectorizer();\n",
    "        self.vect = TfidfVectorizer();\n",
    "        X = self.vect.fit_transform(df_f['text_lemm'])\n",
    "        \n",
    "        self.model = lgb.LGBMClassifier(n_estimators=500, random_state=random_state)\n",
    "        \n",
    "        self.model.fit(X.astype(float), df_t)\n",
    "        \n",
    "    def get_model(self):\n",
    "        return self.vect, self.model\n",
    "        \n",
    "    def predict_proba(self, df_f):\n",
    "        X = self.vect.transform(df_f['text_lemm'])\n",
    "        return self.model.predict(X.astype(float))\n",
    "    \n",
    "    def predict(self, df_f):\n",
    "        X = self.vect.transform(df_f['text_lemm'])\n",
    "        return self.model.predict(X.astype(float))"
   ]
  },
  {
   "cell_type": "code",
   "execution_count": 95,
   "metadata": {},
   "outputs": [
    {
     "name": "stdout",
     "output_type": "stream",
     "text": [
      "              precision    recall  f1-score   support\n",
      "\n",
      "           0       0.97      0.99      0.98     28385\n",
      "           1       0.88      0.69      0.78      3206\n",
      "\n",
      "    accuracy                           0.96     31591\n",
      "   macro avg       0.92      0.84      0.88     31591\n",
      "weighted avg       0.96      0.96      0.96     31591\n",
      "\n",
      "f1 valid = 0.7755815987405983\n",
      "CPU times: user 5min 37s, sys: 11.4 s, total: 5min 49s\n",
      "Wall time: 53.3 s\n"
     ]
    }
   ],
   "source": [
    "%%time\n",
    "res = train_model(LGBTModel())"
   ]
  },
  {
   "cell_type": "code",
   "execution_count": 96,
   "metadata": {},
   "outputs": [],
   "source": [
    "stat['LGBT'] = res"
   ]
  },
  {
   "cell_type": "markdown",
   "metadata": {},
   "source": [
    "Significance analysis"
   ]
  },
  {
   "cell_type": "code",
   "execution_count": 97,
   "metadata": {},
   "outputs": [],
   "source": [
    "try:\n",
    "    import shap\n",
    "except:\n",
    "    pass"
   ]
  },
  {
   "cell_type": "code",
   "execution_count": 98,
   "metadata": {},
   "outputs": [
    {
     "name": "stderr",
     "output_type": "stream",
     "text": [
      "LightGBM binary classifier with TreeExplainer shap values output has changed to a list of ndarray\n"
     ]
    },
    {
     "data": {
      "image/png": "[encoded data removed]",
      "text/plain": [
       "<Figure size 576x684 with 1 Axes>"
      ]
     },
     "metadata": {
      "needs_background": "light"
     },
     "output_type": "display_data"
    }
   ],
   "source": [
    "try:\n",
    "    vect, model = res[0].get_model()\n",
    "    explainer = shap.Explainer(model)\n",
    "    inputs = vect.transform(valid_f.sample(1000)['text']).toarray()\n",
    "    shap_values = explainer.shap_values(inputs)\n",
    "    shap.summary_plot(shap_values, inputs, feature_names = vect.get_feature_names_out())\n",
    "except:\n",
    "    pass"
   ]
  },
  {
   "cell_type": "markdown",
   "metadata": {},
   "source": [
    "**Resume:**\n",
    "- Count vectorizer is more situable than TF-IDF in this case\n",
    "- Significance analysis doen't extract keywords well"
   ]
  },
  {
   "attachments": {},
   "cell_type": "markdown",
   "metadata": {},
   "source": [
    "### CatBoost <a class=\"anchor\" id=\"catboost\"></a>"
   ]
  },
  {
   "cell_type": "code",
   "execution_count": 99,
   "metadata": {},
   "outputs": [],
   "source": [
    "class CatBoostModel():\n",
    "    def fit(self, df_f, df_t, valid_f, valid_t):\n",
    "        \n",
    "        train_pool = Pool(data=df_f[['text']], label=df_t, text_features=['text'])\n",
    "        valid_pool = Pool(data=valid_f[['text']], label=valid_t, text_features=['text'])\n",
    "        \n",
    "        # gyper parameters are also selected\n",
    "        self.model = CatBoostClassifier(\n",
    "            task_type='GPU', iterations=5000, eval_metric='F1', od_type='Iter', od_wait=500,\n",
    "            tokenizers=[\n",
    "                {\n",
    "                    'tokenizer_id': 'Sense',\n",
    "                    'separator_type': 'BySense',\n",
    "                    'lowercasing': 'True',\n",
    "                    'token_types':['Word', 'Number', 'SentenceBreak'],\n",
    "                    'sub_tokens_policy':'SeveralTokens'\n",
    "                }      \n",
    "            ],\n",
    "            dictionaries = [\n",
    "                {\n",
    "                    'dictionary_id': 'Word',\n",
    "                    'max_dictionary_size': '50000'\n",
    "                }\n",
    "            ],\n",
    "            feature_calcers = [\n",
    "                'BoW:top_tokens_count=10000'\n",
    "            ]\n",
    "        )\n",
    "        \n",
    "        self.model.fit(train_pool, eval_set=valid_pool, verbose=100, plot=True, use_best_model=True)\n",
    "\n",
    "    def get_model(self):\n",
    "        return self.model\n",
    "    \n",
    "    def predict(self, df_f):\n",
    "        return self.model.predict(df_f[['text']])"
   ]
  },
  {
   "cell_type": "markdown",
   "metadata": {},
   "source": [
    "The model has been trained and tested on GPU server. The result has been saved to final table below"
   ]
  },
  {
   "cell_type": "code",
   "execution_count": 100,
   "metadata": {},
   "outputs": [],
   "source": [
    "stat['CatBoost'] = (None, 0.7586206896551724)"
   ]
  },
  {
   "cell_type": "markdown",
   "metadata": {
    "tags": []
   },
   "source": [
    "**Resume:** \n",
    "- the result isn't the best, may be needed to turn gyper paramenters\n",
    "- CatBoost trained very fast on GPU, only 47 secs\n",
    "- CatBoost is usefull to work with combination numeric, categorized and text features"
   ]
  },
  {
   "attachments": {},
   "cell_type": "markdown",
   "metadata": {
    "tags": []
   },
   "source": [
    "### BERT Embedding <a class=\"anchor\" id=\"bertemb\"></a>\n",
    "\n",
    "We prepare BERT embeddings in Colab on GPU environment"
   ]
  },
  {
   "cell_type": "code",
   "execution_count": 101,
   "metadata": {},
   "outputs": [
    {
     "data": {
      "text/plain": [
       "' Этот код выполнялся локально (нужен доступ к диску)'"
      ]
     },
     "execution_count": 101,
     "metadata": {},
     "output_type": "execute_result"
    }
   ],
   "source": [
    "train_f.to_csv('temp/train_f.csv')\n",
    "train_t.to_csv('temp/train_t.csv')\n",
    "valid_f.to_csv('temp/valid_f.csv')\n",
    "valid_t.to_csv('temp/valid_t.csv')\n",
    "test_f.to_csv('temp/test_f.csv')\n",
    "test_t.to_csv('temp/test_t.csv')"
   ]
  },
  {
   "cell_type": "code",
   "execution_count": 102,
   "metadata": {},
   "outputs": [],
   "source": [
    "def generate_emb(df, bert_name='bert-base-cased'):\n",
    "    \"\"\"The function add 768 columns of bert-embeddings to the DataFrame df\"\"\"\n",
    "    \n",
    "    tokenizer = transformers.BertTokenizer.from_pretrained(bert_name)\n",
    "    bert = transformers.BertModel.from_pretrained(bert_name)\n",
    "    \n",
    "    use_cuda = torch.cuda.is_available()\n",
    "    device = torch.device(\"cuda\" if use_cuda else \"cpu\")\n",
    "    if use_cuda:\n",
    "        bert = bert.cuda()\n",
    "    \n",
    "    features = []\n",
    "    for text in notebook.tqdm(df['text']):\n",
    "        token = tokenizer(text, padding='max_length', max_length = 512, truncation=True, return_tensors=\"pt\")\n",
    "        input_id = token['input_ids'].squeeze(1).to(device)\n",
    "        mask = token['attention_mask'].to(device)\n",
    "        output = bert(input_id, mask)\n",
    "        features.append(output.last_hidden_state[0,0,:].cpu().detach().numpy())\n",
    "\n",
    "    pd.DataFrame(features)\n",
    "    df = df.reset_index(drop=True).join(pd.DataFrame(features))\n",
    "    return df"
   ]
  },
  {
   "cell_type": "code",
   "execution_count": 103,
   "metadata": {},
   "outputs": [
    {
     "data": {
      "text/plain": [
       "' Этот код выполнялся в CoLab '"
      ]
     },
     "execution_count": 103,
     "metadata": {},
     "output_type": "execute_result"
    }
   ],
   "source": [
    "\"\"\" executed in CoLab \"\"\"\n",
    "# %%time\n",
    "# for fn in ['train_f', 'valid_f', 'test_f']:\n",
    "#     df = pd.read_csv(f'/content/gdrive/MyDrive/Colab Notebooks/yandex-bert/{fn}.csv')\n",
    "#     df_e = generate_emb(df)\n",
    "#     df_e.to_csv(f'/content/gdrive/MyDrive/Colab Notebooks/yandex-bert/{fn}_e.csv')"
   ]
  },
  {
   "cell_type": "markdown",
   "metadata": {},
   "source": [
    "![jupyter](./colab-1.png)"
   ]
  },
  {
   "cell_type": "code",
   "execution_count": 104,
   "metadata": {},
   "outputs": [
    {
     "data": {
      "text/plain": [
       "' Этот код выполнялся локально (нужен доступ к диску)'"
      ]
     },
     "execution_count": 104,
     "metadata": {},
     "output_type": "execute_result"
    }
   ],
   "source": [
    "# train_f_e = pd.read_csv('temp/train_f_e2.csv')\n",
    "# valid_f_e = pd.read_csv('temp/valid_f_e2.csv')\n",
    "# test_f_e = pd.read_csv('temp/test_f_e2.csv')\n",
    "\n",
    "# print(train_f_e.shape)\n",
    "# train_f_e.head(2)"
   ]
  },
  {
   "cell_type": "markdown",
   "metadata": {},
   "source": [
    "DataFrame with embenddings:\n",
    "![jupyter](./local-1.png)"
   ]
  },
  {
   "cell_type": "code",
   "execution_count": 105,
   "metadata": {},
   "outputs": [],
   "source": [
    "class BertEmbModel():\n",
    "\n",
    "    def fit(self, df_f, df_t):\n",
    "        #self.model = ib.pipeline.Pipeline([\n",
    "        #    #('sam', RandomOverSampler(random_state=random_state)),\n",
    "        #    #('sam', RandomUnderSampler(random_state=random_state)),\n",
    "        #    ('model', LogisticRegression(max_iter=5000, class_weight='balanced'))\n",
    "        #    #('model', RandomForestClassifier(max_depth=10, n_estimators=200, n_jobs=8))\n",
    "        #    ])\n",
    "        #self.model = lgb.LGBMClassifier(random_state=random_state)\n",
    "        \n",
    "        neg, pos = np.bincount(df_t)\n",
    "        total = neg + pos\n",
    "\n",
    "        weight_for_0 = (1 / neg) * (total / 2.0)\n",
    "        weight_for_1 = (1 / pos) * (total / 2.0)\n",
    "\n",
    "        class_weight = {0: weight_for_0, 1: weight_for_1}\n",
    "        \n",
    "        self.model = tf.keras.Sequential([\n",
    "            tf.keras.layers.Dropout(0.05),\n",
    "            tf.keras.layers.Dense(768, input_shape=(768,), activation='linear'),\n",
    "            #tf.keras.layers.Dense(100, activation='linear'),\n",
    "            tf.keras.layers.Dense(1, activation='sigmoid')\n",
    "          ])        \n",
    "\n",
    "        self.model.compile(optimizer='adam',\n",
    "                loss=tf.keras.losses.BinaryCrossentropy(),\n",
    "                metrics=['accuracy'])\n",
    "        \n",
    "        self.model.fit(df_f[[str(x) for x in range(768)]], df_t.values, epochs=5,\n",
    "                      validation_data=(valid_f_e[[str(x) for x in range(768)]], valid_t.values),\n",
    "                      #class_weight=class_weight\n",
    "                      )\n",
    "        \n",
    "    def predict(self, df_f):\n",
    "        df = df_f[[str(x) for x in range(768)]]\n",
    "        return [1 if y > 0.35 else 0 for y in self.model.predict(df)]"
   ]
  },
  {
   "cell_type": "code",
   "execution_count": 106,
   "metadata": {},
   "outputs": [
    {
     "data": {
      "text/plain": [
       "' Этот код выполнялся локально '"
      ]
     },
     "execution_count": 106,
     "metadata": {},
     "output_type": "execute_result"
    }
   ],
   "source": [
    "train_f_e = pd.read_csv('temp/train_f_e2.csv')\n",
    "valid_f_e = pd.read_csv('temp/valid_f_e2.csv')\n",
    "res = train_model(BertEmbModel(), train_f=train_f_e, valid_f=valid_f_e)"
   ]
  },
  {
   "cell_type": "markdown",
   "metadata": {},
   "source": [
    "The results:\n",
    "\n",
    "f1 valid = 0.701948051948052<br>\n",
    "Wall time: 49.8 s\n",
    "\n",
    "              precision    recall  f1-score   support\n",
    "\n",
    "           0       0.96      0.97      0.97     28385\n",
    "           1       0.73      0.67      0.70      3206\n"
   ]
  },
  {
   "cell_type": "code",
   "execution_count": 107,
   "metadata": {},
   "outputs": [],
   "source": [
    "stat['BERT-emb'] = (None, 0.701948051948052)"
   ]
  },
  {
   "cell_type": "markdown",
   "metadata": {
    "jp-MarkdownHeadingCollapsed": true,
    "tags": []
   },
   "source": [
    "Let's try use toxic-specific bert model"
   ]
  },
  {
   "cell_type": "code",
   "execution_count": 108,
   "metadata": {},
   "outputs": [],
   "source": [
    "# 'unitary/toxic-bert'\n",
    "class BertTxicEmbModel():\n",
    "\n",
    "    def fit(self, df_f, df_t):\n",
    "        # self.model = ib.pipeline.Pipeline([\n",
    "        #     #('sam', RandomOverSampler(random_state=random_state)),\n",
    "        #     #('sam', RandomUnderSampler(random_state=random_state)),\n",
    "        #     ('model', LogisticRegression(max_iter=5000, class_weight='balanced'))\n",
    "        #     #('model', RandomForestClassifier(max_depth=10, n_estimators=200, n_jobs=8))\n",
    "        #     ])\n",
    "        # #self.model = lgb.LGBMClassifier(random_state=random_state)\n",
    "        # self.model.fit(df_f[[str(x) for x in range(768)]], df_t)\n",
    "        \n",
    "        neg, pos = np.bincount(df_t)\n",
    "        total = neg + pos\n",
    "\n",
    "        weight_for_0 = (1 / neg) * (total / 2.0)\n",
    "        weight_for_1 = (1 / pos) * (total / 2.0)\n",
    "\n",
    "        class_weight = {0: weight_for_0, 1: weight_for_1}\n",
    "        \n",
    "        self.model = tf.keras.Sequential([\n",
    "            tf.keras.layers.Dropout(0.3),\n",
    "            tf.keras.layers.Dense(768, input_shape=(768,), activation='linear'),\n",
    "            #tf.keras.layers.Dense(100, activation='linear'),\n",
    "            tf.keras.layers.Dense(1, activation='sigmoid')\n",
    "          ])        \n",
    "\n",
    "        self.model.compile(optimizer='adam',\n",
    "                loss=tf.keras.losses.BinaryCrossentropy(),\n",
    "                metrics=['accuracy'])\n",
    "        \n",
    "        self.model.fit(df_f[[str(x) for x in range(768)]], df_t.values, epochs=3,\n",
    "                      validation_data=(valid_f_e_toxic[[str(x) for x in range(768)]], valid_t.values),\n",
    "                      #class_weight=class_weight\n",
    "                      )\n",
    "        \n",
    "    def predict(self, df_f):\n",
    "        # return self.predict(df_f[[str(x) for x in range(768)]])\n",
    "        df = df_f[[str(x) for x in range(768)]]\n",
    "        return [1 if y > 0.5 else 0 for y in self.model.predict(df)]"
   ]
  },
  {
   "cell_type": "code",
   "execution_count": 13,
   "metadata": {},
   "outputs": [
    {
     "data": {
      "text/plain": [
       "' Этот код выполнялся локально '"
      ]
     },
     "execution_count": 13,
     "metadata": {},
     "output_type": "execute_result"
    }
   ],
   "source": [
    "train_f_e_toxic = pd.read_csv('temp/train_f_e_toxic.csv')\n",
    "valid_f_e_toxic = pd.read_csv('temp/valid_f_e_toxic.csv')\n",
    "res = train_model(BertTxicEmbModel(), train_f=train_f_e_toxic, valid_f=valid_f_e_toxic)"
   ]
  },
  {
   "cell_type": "code",
   "execution_count": 110,
   "metadata": {},
   "outputs": [],
   "source": [
    "stat['BERT-toxic-emb'] = (None, 0.946)"
   ]
  },
  {
   "cell_type": "markdown",
   "metadata": {},
   "source": [
    "**Resume** \n",
    "- Pre-trained at specific domain bert model is greater solution"
   ]
  },
  {
   "attachments": {},
   "cell_type": "markdown",
   "metadata": {},
   "source": [
    "### TNSE embedding visualization <a class=\"anchor\" id=\"tnse\"></a>"
   ]
  },
  {
   "cell_type": "code",
   "execution_count": 111,
   "metadata": {},
   "outputs": [],
   "source": [
    "from sklearn.manifold import TSNE\n",
    "import plotly.express as px"
   ]
  },
  {
   "cell_type": "code",
   "execution_count": 112,
   "metadata": {},
   "outputs": [],
   "source": [
    "def tsne_plot(df_f, df_t, y_range = [8,13]):\n",
    "    sam = RandomUnderSampler(sampling_strategy={0: 1000, 1: 1000}, random_state=random_state)\n",
    "    mini_f_e, mini_t = sam.fit_resample(df_f, df_t)\n",
    "    \n",
    "    X = list(mini_f_e[[str(x) for x in range(768)]].to_numpy())\n",
    "    X_embedded = TSNE(n_components=2).fit_transform(X)\n",
    "    \n",
    "    df_embeddings = pd.DataFrame(X_embedded)\n",
    "    df_embeddings = df_embeddings.rename(columns={0:'x',1:'y'})\n",
    "    df_embeddings = df_embeddings.assign(label=mini_t.apply(lambda x: str(x)).values)\n",
    "    df_embeddings = df_embeddings.assign(text=mini_f_e['text'].values)\n",
    "    \n",
    "    fig = px.scatter(\n",
    "        df_embeddings, x='x', y='y',\n",
    "        color='label', #labels={'color': 'label'},\n",
    "        title = 'Embedding Visualization', width=800, height=600)\n",
    "    fig.update_yaxes(range = y_range)\n",
    "    fig.show()"
   ]
  },
  {
   "cell_type": "code",
   "execution_count": 113,
   "metadata": {},
   "outputs": [
    {
     "data": {
      "text/plain": [
       "'Этот код выполнялся локально'"
      ]
     },
     "execution_count": 113,
     "metadata": {},
     "output_type": "execute_result"
    }
   ],
   "source": [
    "print('bert-base-cased')\n",
    "tsne_plot(valid_f_e, valid_t)"
   ]
  },
  {
   "cell_type": "markdown",
   "metadata": {},
   "source": [
    "![jupyter](./tnse-1.png)"
   ]
  },
  {
   "cell_type": "code",
   "execution_count": 114,
   "metadata": {},
   "outputs": [
    {
     "data": {
      "text/plain": [
       "'Этот код выполнялся локально'"
      ]
     },
     "execution_count": 114,
     "metadata": {},
     "output_type": "execute_result"
    }
   ],
   "source": [
    "print('unitary/toxic-bert')\n",
    "tsne_plot(valid_f_e_toxic, valid_t)"
   ]
  },
  {
   "cell_type": "markdown",
   "metadata": {},
   "source": [
    "![jupyter](./tnse-2.png)"
   ]
  },
  {
   "cell_type": "markdown",
   "metadata": {},
   "source": [
    "**Resume**\n",
    "- TSNE allows to vizualize embeddings\n",
    "- There is a clear difference between the two models. And on BERT-toxic it is clearly visible that toxic texts can be clustered into 4 separate clusters"
   ]
  },
  {
   "attachments": {},
   "cell_type": "markdown",
   "metadata": {},
   "source": [
    "### Universal Sentence Encoder <a class=\"anchor\" id=\"use\"></a>\n",
    "There is alternative model for generation embeddings"
   ]
  },
  {
   "cell_type": "code",
   "execution_count": 115,
   "metadata": {
    "tags": []
   },
   "outputs": [],
   "source": [
    "class UseEmbModel():\n",
    "\n",
    "    def fit(self, df_f, df_t):\n",
    "        self.embed = hub.load(\"https://tfhub.dev/google/universal-sentence-encoder/4\")\n",
    "        embendings = [x.numpy() for x in self.embed(df_f['text'])]\n",
    "        \n",
    "        neg, pos = np.bincount(df_t)\n",
    "        total = neg + pos\n",
    "\n",
    "        weight_for_0 = (1 / neg) * (total / 2.0)\n",
    "        weight_for_1 = (1 / pos) * (total / 2.0)\n",
    "\n",
    "        class_weight = {0: weight_for_0, 1: weight_for_1}\n",
    "        \n",
    "        self.model = tf.keras.Sequential([\n",
    "            tf.keras.layers.Dropout(0.1),\n",
    "            tf.keras.layers.Dense(512, input_shape=(512,), activation='linear'),\n",
    "            tf.keras.layers.Dense(100, activation='linear'),\n",
    "            tf.keras.layers.Dense(1, activation='sigmoid')\n",
    "          ])\n",
    "\n",
    "        self.model.compile(optimizer='adam',\n",
    "                loss=tf.keras.losses.BinaryCrossentropy(),\n",
    "                metrics=['accuracy'])\n",
    "        \n",
    "        self.model.fit(pd.DataFrame(embendings), df_t.values, epochs=2,\n",
    "                      #validation_data=(valid_f_use, valid_t.values),\n",
    "                      #class_weight=class_weight\n",
    "                      )\n",
    "        \n",
    "    def predict_proba(self, df_f):\n",
    "        return self.model.predict(df_f)\n",
    "        \n",
    "    def predict(self, df_f):\n",
    "        embendings = [x.numpy() for x in self.embed(df_f['text'])]\n",
    "        return [1 if y > 0.5 else 0 for y in self.model.predict(pd.DataFrame(embendings))]"
   ]
  },
  {
   "cell_type": "code",
   "execution_count": 116,
   "metadata": {},
   "outputs": [],
   "source": [
    "%%time\n",
    "res = train_model(UseEmbModel())"
   ]
  },
  {
   "cell_type": "code",
   "execution_count": 117,
   "metadata": {},
   "outputs": [],
   "source": [
    "stat['USE-emb'] = (None, 0.71)"
   ]
  },
  {
   "cell_type": "markdown",
   "metadata": {},
   "source": [
    "**Resume**\n",
    "- The time of generation of embedding is significatn lower that bert (5ms vs 0.6sec on CPU). It's a plus/\n",
    "- The result is simular to bert\n",
    "- As the name suggests, this network is good to use in chatbots when comparing questions"
   ]
  },
  {
   "attachments": {},
   "cell_type": "markdown",
   "metadata": {},
   "source": [
    "### BERT with fine tuning <a class=\"anchor\" id=\"bert-fine\"></a>\n",
    "\n",
    "The idea is the following:\n",
    "- create our own class inherited from torch.Module, take the BERT model, override the forward method\n",
    "- in the forward method, we pass the input vector through bert, and the output bert through our own additional layers\n",
    "- this way we get a model consisting of bert and our layers, which can be trained as a whole\n",
    "- train the model\n",
    "\n",
    "Such training is resource intensive. Of course, we will run it on a Colab with a GPU, but it's still a long time (Colab cannot be left to count overnight). We are interested in how much the retrained model will be better than other architectures from this project. Let's shorten the time like this:\n",
    "- we will perform Under-Sampling for the training data and additionally save the resulting dataset (the total size of the training sample was 13000 rows)\n",
    "- we will train interesting models on it, save separate statistics and look at the results\n",
    "- it is clear that on incomplete data the quality will be worse than if trained on a full training set"
   ]
  },
  {
   "cell_type": "code",
   "execution_count": 15,
   "metadata": {},
   "outputs": [],
   "source": [
    "# mini training set\n",
    "sam = RandomUnderSampler(sampling_strategy={0: 8000, 1: 5000}, random_state=random_state)\n",
    "train_mini_f, train_mini_t = sam.fit_resample(train_f, train_t)"
   ]
  },
  {
   "cell_type": "markdown",
   "metadata": {},
   "source": [
    "Yandex Data Shere results\n",
    "- The time of training 4 epohes each contained 13000 rows on **GPU V100** was about 40 minutes\n",
    "- The result is **f1=0.7572715572715573** on our validate set\n",
    "\n",
    "              precision    recall  f1-score   support\n",
    "\n",
    "           0       0.99      0.94      0.97     28385\n",
    "           1       0.64      0.92      0.76      3206\n",
    "\n"
   ]
  },
  {
   "cell_type": "code",
   "execution_count": 119,
   "metadata": {},
   "outputs": [],
   "source": [
    "ministat = {'BERT+': 0.7572715572715573}"
   ]
  },
  {
   "cell_type": "markdown",
   "metadata": {},
   "source": [
    "Now let's run the rest of the model types and store the results in `ministat`. We will assume that on a smaller sample, the optimal hyperparameters do not differ too much from those already tuned and we will not tune them again"
   ]
  },
  {
   "cell_type": "code",
   "execution_count": 120,
   "metadata": {},
   "outputs": [
    {
     "data": {
      "text/plain": [
       "' Этот код выполнялся локально '"
      ]
     },
     "execution_count": 120,
     "metadata": {},
     "output_type": "execute_result"
    }
   ],
   "source": [
    "train_mini_f_e = pd.read_csv('temp/train_mini_f_e2.csv')\n",
    "res = train_model(BertEmbModel(), train_f=train_mini_f_e, train_t=train_mini_t, valid_f=valid_f_e)\n",
    "res = train_model(UseEmbModel(), train_f=train_mini_f, train_t=train_mini_t)"
   ]
  },
  {
   "cell_type": "code",
   "execution_count": 121,
   "metadata": {},
   "outputs": [],
   "source": [
    "ministat['BERT-emb'] = 0.6285388127853881\n",
    "ministat['USE-emb'] = 0.6681161273820181"
   ]
  },
  {
   "cell_type": "code",
   "execution_count": 122,
   "metadata": {},
   "outputs": [
    {
     "name": "stdout",
     "output_type": "stream",
     "text": [
      "              precision    recall  f1-score   support\n",
      "\n",
      "           0       0.98      0.95      0.96     28385\n",
      "           1       0.63      0.82      0.72      3206\n",
      "\n",
      "    accuracy                           0.93     31591\n",
      "   macro avg       0.81      0.88      0.84     31591\n",
      "weighted avg       0.94      0.93      0.94     31591\n",
      "\n",
      "f1 valid = 0.7161666892900773\n"
     ]
    }
   ],
   "source": [
    "res = train_model(LGBTModel(), train_f=train_mini_f, train_t=train_mini_t)"
   ]
  },
  {
   "cell_type": "code",
   "execution_count": 123,
   "metadata": {},
   "outputs": [],
   "source": [
    "ministat['LGBT'] = res[1]"
   ]
  },
  {
   "cell_type": "code",
   "execution_count": 124,
   "metadata": {},
   "outputs": [
    {
     "name": "stdout",
     "output_type": "stream",
     "text": [
      "              precision    recall  f1-score   support\n",
      "\n",
      "           0       0.98      0.96      0.97     28385\n",
      "           1       0.68      0.79      0.73      3206\n",
      "\n",
      "    accuracy                           0.94     31591\n",
      "   macro avg       0.83      0.88      0.85     31591\n",
      "weighted avg       0.95      0.94      0.94     31591\n",
      "\n",
      "f1 valid = 0.7301405219386291\n"
     ]
    }
   ],
   "source": [
    "res = train_model(CountModel(), train_f=train_mini_f, train_t=train_mini_t)"
   ]
  },
  {
   "cell_type": "code",
   "execution_count": 125,
   "metadata": {},
   "outputs": [],
   "source": [
    "ministat['Count'] = res[1]"
   ]
  },
  {
   "cell_type": "code",
   "execution_count": 126,
   "metadata": {},
   "outputs": [
    {
     "name": "stdout",
     "output_type": "stream",
     "text": [
      "              precision    recall  f1-score   support\n",
      "\n",
      "           0       0.98      0.96      0.97     28385\n",
      "           1       0.67      0.79      0.72      3206\n",
      "\n",
      "    accuracy                           0.94     31591\n",
      "   macro avg       0.82      0.87      0.84     31591\n",
      "weighted avg       0.94      0.94      0.94     31591\n",
      "\n",
      "f1 valid = 0.7233859397417503\n"
     ]
    }
   ],
   "source": [
    "res = train_model(KwModel(n_max=500, n_min=5, min_weight=5, count_type='text'),\n",
    "                 train_f=train_mini_f, train_t=train_mini_t)"
   ]
  },
  {
   "cell_type": "code",
   "execution_count": 127,
   "metadata": {},
   "outputs": [],
   "source": [
    "ministat['KW'] = res[1]"
   ]
  },
  {
   "cell_type": "code",
   "execution_count": 128,
   "metadata": {},
   "outputs": [
    {
     "data": {
      "text/plain": [
       "{'BERT+': 0.7572715572715573,\n",
       " 'BERT-emb': 0.6285388127853881,\n",
       " 'USE-emb': 0.6681161273820181,\n",
       " 'LGBT': 0.7161666892900773,\n",
       " 'Count': 0.7301405219386291,\n",
       " 'KW': 0.7233859397417503}"
      ]
     },
     "execution_count": 128,
     "metadata": {},
     "output_type": "execute_result"
    }
   ],
   "source": [
    "ministat"
   ]
  },
  {
   "cell_type": "code",
   "execution_count": 129,
   "metadata": {},
   "outputs": [
    {
     "data": {
      "image/png": "[encoded data removed]",
      "text/plain": [
       "<Figure size 648x360 with 1 Axes>"
      ]
     },
     "metadata": {
      "needs_background": "light"
     },
     "output_type": "display_data"
    }
   ],
   "source": [
    "(\n",
    "    pd.DataFrame(ministat, index=['f1'])\n",
    "        .transpose()\n",
    "        .sort_values('f1')\n",
    "        .plot(kind='barh', legend=False, figsize=(9,5), title='F1 (Valid) using mini-train')\n",
    ");"
   ]
  },
  {
   "cell_type": "markdown",
   "metadata": {},
   "source": [
    "**Resume**\n",
    "- the retrained model is much better than the related emboding, but it requires a long/expensive training\n",
    "- compared to the full sample, the results are distributed somewhat differently, most likely the embeddings did not have enough data to train on the same number of epochs. But comparing BERT-emb and BERT+ is quite legal."
   ]
  },
  {
   "attachments": {},
   "cell_type": "markdown",
   "metadata": {},
   "source": [
    "### Ensambling <a class=\"anchor\" id=\"ensambling\"></a>"
   ]
  },
  {
   "cell_type": "code",
   "execution_count": 130,
   "metadata": {},
   "outputs": [
    {
     "data": {
      "image/png": "[encoded data removed]",
      "text/plain": [
       "<Figure size 648x360 with 1 Axes>"
      ]
     },
     "metadata": {
      "needs_background": "light"
     },
     "output_type": "display_data"
    }
   ],
   "source": [
    "(\n",
    "    pd.DataFrame(stat)\n",
    "        .transpose()\n",
    "        .sort_values(1)\n",
    "        .plot(kind='barh', legend=False, figsize=(9,5), title='F1 (Valid)')\n",
    ");"
   ]
  },
  {
   "cell_type": "markdown",
   "metadata": {},
   "source": [
    "For the right ensemble, you need to choose the best models of approximately the same quality. Therefore, we take the frequency model and LGBT asFor the right ensemble, you need to choose the best models of approximately the same quality. Therefore, we take the Count model and LGBM. These are not the best models, but they are suitable for our experiment."
   ]
  },
  {
   "cell_type": "code",
   "execution_count": 131,
   "metadata": {},
   "outputs": [],
   "source": [
    "class EnsambleModel():\n",
    "    def __init__(self, m1=stat['LGBT'][0], m2=stat['Counts'][0]):\n",
    "        self.m1 = m1\n",
    "        self.m2 = m2\n",
    "    \n",
    "    def fit(self, df_f, df_t):\n",
    "        pass\n",
    "        \n",
    "    def predict(self, df_f):\n",
    "        p1 = self.m1.predict_proba(df_f)\n",
    "        p2 = self.m2.predict_proba(df_f)\n",
    "        \n",
    "        p = [0] * len(p1)\n",
    "        for i in range(len(p1)):\n",
    "            if p2[i] < 0.55:\n",
    "                p[i] = 0;\n",
    "            elif p2[i] > 0.8:\n",
    "                p[i] = 1\n",
    "            else:\n",
    "                p[i] = p1[i]\n",
    "              \n",
    "        return p"
   ]
  },
  {
   "cell_type": "code",
   "execution_count": 132,
   "metadata": {},
   "outputs": [
    {
     "name": "stdout",
     "output_type": "stream",
     "text": [
      "              precision    recall  f1-score   support\n",
      "\n",
      "           0       0.97      0.98      0.98     28385\n",
      "           1       0.82      0.75      0.79      3206\n",
      "\n",
      "    accuracy                           0.96     31591\n",
      "   macro avg       0.90      0.87      0.88     31591\n",
      "weighted avg       0.96      0.96      0.96     31591\n",
      "\n",
      "f1 valid = 0.7853539462978031\n"
     ]
    }
   ],
   "source": [
    "res = train_model(EnsambleModel())"
   ]
  },
  {
   "cell_type": "code",
   "execution_count": 133,
   "metadata": {},
   "outputs": [],
   "source": [
    "stat['Ensamble'] = res"
   ]
  },
  {
   "cell_type": "markdown",
   "metadata": {},
   "source": [
    "**Resume:** Due to the ensemble, the metric was increased by almost 1%"
   ]
  },
  {
   "attachments": {},
   "cell_type": "markdown",
   "metadata": {},
   "source": [
    "### Consulation <a class=\"anchor\" id=\"model-consulation\"></a>"
   ]
  },
  {
   "cell_type": "markdown",
   "metadata": {},
   "source": [
    "- modeled several interesting architectures\n",
    "- prepared keyword search functions\n",
    "- frequency analysis models have good (but not the best) results\n",
    "- the threshold was also selected as a hyperparameter\n",
    "- in my project pure embeddings lost out to frequency ones (tf network showed the best results at the output, I tried other classifiers from simple to complex)\n",
    "- retrained models are much better than embodings, but require significant resources for training\n",
    "- toxic-specific pretrained bert model has the best score (except may be fine tuning bert model)\n",
    "- embeddings can be used not only for classification, for example, the search for correlations and similarity of sentences\n",
    "- the use of ensembles and combinations of models can further increase the metric"
   ]
  },
  {
   "attachments": {},
   "cell_type": "markdown",
   "metadata": {},
   "source": [
    "## Testing <a class=\"anchor\" id=\"test\"></a>\n",
    "Let's compare the results of different algorithms, choose the best final model for this projectLet's compare the results of different algorithms, choose the best final model for this project"
   ]
  },
  {
   "cell_type": "code",
   "execution_count": 134,
   "metadata": {},
   "outputs": [
    {
     "data": {
      "image/png": "[encoded data removed]",
      "text/plain": [
       "<Figure size 648x360 with 1 Axes>"
      ]
     },
     "metadata": {
      "needs_background": "light"
     },
     "output_type": "display_data"
    }
   ],
   "source": [
    "(\n",
    "    pd.DataFrame(stat)\n",
    "        .transpose()\n",
    "        .sort_values(1)\n",
    "        .plot(kind='barh', legend=False, figsize=(9,5), title='F1 (Valid)')\n",
    ");"
   ]
  },
  {
   "cell_type": "markdown",
   "metadata": {},
   "source": [
    "So, the best is BERT-toxic-emb and Ensamble model in second place"
   ]
  },
  {
   "cell_type": "code",
   "execution_count": 135,
   "metadata": {},
   "outputs": [],
   "source": [
    "# tv_f = train_f.append(valid_f)\n",
    "# tv_t = train_t.append(valid_t)\n",
    "\n",
    "# m1 = LGBTModel()\n",
    "# m1.fit(tv_f, tv_t)\n",
    "\n",
    "# m2 = CountModel()\n",
    "# m2.fit(tv_f, tv_t)\n",
    "\n",
    "# final_model = EnsambleModel(m1=m1, m2=m2)"
   ]
  },
  {
   "cell_type": "code",
   "execution_count": 136,
   "metadata": {},
   "outputs": [],
   "source": [
    "# eval_model(final_model, test_f, test_t)"
   ]
  },
  {
   "cell_type": "code",
   "execution_count": 137,
   "metadata": {},
   "outputs": [
    {
     "data": {
      "text/plain": [
       "'Этот код выполнялся локально'"
      ]
     },
     "execution_count": 137,
     "metadata": {},
     "output_type": "execute_result"
    }
   ],
   "source": [
    "tv_f = train_f_e_toxic.append(valid_f_e_toxic)\n",
    "tv_t = train_t.append(valid_t)\n",
    "\n",
    "test_f_e_toxic = pd.read_csv('temp/test_f_e_toxic.csv')\n",
    "\n",
    "res = train_model(BertTxicEmbModel(), train_f=tv_f, train_t=tv_t, valid_f=test_f_e_toxic, valid_t=test_t)"
   ]
  },
  {
   "cell_type": "markdown",
   "metadata": {},
   "source": [
    "**Result:** The final model has the metric **F1 = 0.95** (before BERT-emb-toxic the ensemble had F1=0.79). The result satisfies the requirements at 0.75"
   ]
  },
  {
   "attachments": {},
   "cell_type": "markdown",
   "metadata": {},
   "source": [
    "## Consulation <a class=\"anchor\" id=\"consulation\"></a>"
   ]
  },
  {
   "cell_type": "markdown",
   "metadata": {},
   "source": [
    "**Feature Engineering**\n",
    "- a little more than 1% of messages have length more than 512 words\n",
    "- selective viewing does not show unnecessary information (texts of forwarded messages, signatures, and so on)\n",
    "- presumably the emotional coloring fits into the first 512 words, you can limit the number of words when working with BERT.\n",
    "- processed short messages, some deleted\n",
    "- carried out lemmantization\n",
    "- prepared function for creating TF-IDF features\n",
    "\n",
    "**EDA**\n",
    "- there is a class imbalance\n",
    "- there is a class difference in TF-IDF\n",
    "- there is a class difference in word frequencies\n",
    "- visually the difference between ghosts in TF-IDF is more significant\n",
    "- prepared lists of keywords in different ways\n",
    "- prepared an algorithm for identifying class-specific keywords\n",
    "- non-toxic messages are on average longer (differences are not significant enough to be used as a feature)\n",
    "\n",
    "**Modeling**\n",
    "- modeled several interesting architectures\n",
    "- prepared keyword search functions\n",
    "- frequency analysis models have good (but not the best) results\n",
    "- the threshold was also selected as a hyperparameter\n",
    "- in my project pure embeddings lost out to frequency ones (tf network showed the best results at the output, I tried other classifiers from simple to complex)\n",
    "- retrained models are much better than embodings, but require significant resources for training\n",
    "- toxic-specific pretrained bert model has the best score (except may be fine tuning bert model)\n",
    "- embeddings can be used not only for classification, for example, the search for correlations and similarity of sentences\n",
    "- the use of ensembles and combinations of models can further increase the metric\n",
    "\n",
    "**Testing** \n",
    "\n",
    "- The final model has the metric **F1 = 0.95** (before BERT-emb-toxic the ensemble had F1=0.79). The result satisfies the requirements at 0.75"
   ]
  },
  {
   "cell_type": "markdown",
   "metadata": {},
   "source": [
    "## References\n",
    "- BERT in DeepPavlov http://docs.deeppavlov.ai/en/master/features/models/bert.html\n",
    "- NLP Tutorial for Text Classification in Python https://medium.com/analytics-vidhya/nlp-tutorial-for-text-classification-in-python-8f19cd17b49e\n",
    "- universal-sentence-encoder https://tfhub.dev/s?q=universal%20sentence%20encoder\n",
    "- Semantic Textual Similarity Task Example - https://www.tensorflow.org/hub/tutorials/semantic_similarity_with_tf_hub_universal_encoder\n",
    "- В руководстве используется облегченная модель bert http://jalammar.github.io/a-visual-guide-to-using-bert-for-the-first-time/\n",
    "- Sentences Embedding Visualization – How to do it the Best Way https://inside-machinelearning.com/en/efficient-sentences-embedding-visualization-tsne/\n",
    "- Ещё одно обучение BERT и сравнение с CatBoost https://towardsdatascience.com/unconventional-sentiment-analysis-bert-vs-catboost-90645f2437a9\n",
    "- Вот вариант, где обрабатыввают весь текст, а не только 512, https://medium.com/analytics-vidhya/bert-embedding-for-classification-7c51aead26d9"
   ]
  }
 ],
 "metadata": {
  "ExecuteTimeLog": [
   {
    "duration": 2490,
    "start_time": "2022-09-26T08:42:43.606Z"
   },
   {
    "duration": 2244,
    "start_time": "2022-09-26T08:42:46.099Z"
   },
   {
    "duration": 9187,
    "start_time": "2022-09-26T08:42:48.345Z"
   },
   {
    "duration": 7762,
    "start_time": "2022-09-26T08:42:57.535Z"
   },
   {
    "duration": 2791,
    "start_time": "2022-09-26T08:43:05.299Z"
   },
   {
    "duration": 140054,
    "start_time": "2022-09-26T08:43:08.092Z"
   },
   {
    "duration": 7776,
    "start_time": "2022-09-26T08:45:28.149Z"
   },
   {
    "duration": 2876,
    "start_time": "2022-09-26T08:45:35.927Z"
   },
   {
    "duration": 2257,
    "start_time": "2022-09-26T08:45:38.805Z"
   },
   {
    "duration": 2458,
    "start_time": "2022-09-26T08:45:41.065Z"
   },
   {
    "duration": 9783,
    "start_time": "2022-09-26T08:45:43.525Z"
   },
   {
    "duration": 6,
    "start_time": "2022-09-26T08:45:53.310Z"
   },
   {
    "duration": 2374,
    "start_time": "2022-09-26T08:45:53.318Z"
   },
   {
    "duration": 17,
    "start_time": "2022-09-26T08:45:55.694Z"
   },
   {
    "duration": 1135,
    "start_time": "2022-09-26T08:45:55.713Z"
   },
   {
    "duration": 1356,
    "start_time": "2022-09-26T08:45:56.850Z"
   },
   {
    "duration": 2668,
    "start_time": "2022-09-26T08:45:58.207Z"
   },
   {
    "duration": 3313,
    "start_time": "2022-09-26T08:46:00.877Z"
   },
   {
    "duration": 239,
    "start_time": "2022-09-26T08:46:04.191Z"
   },
   {
    "duration": 94,
    "start_time": "2022-09-26T08:46:04.432Z"
   },
   {
    "duration": 757,
    "start_time": "2022-09-26T08:46:04.528Z"
   },
   {
    "duration": 834,
    "start_time": "2022-09-26T08:46:05.287Z"
   },
   {
    "duration": 1356,
    "start_time": "2022-09-26T08:46:06.123Z"
   },
   {
    "duration": 514,
    "start_time": "2022-09-26T08:46:07.481Z"
   },
   {
    "duration": 571,
    "start_time": "2022-09-26T08:46:07.997Z"
   },
   {
    "duration": 533,
    "start_time": "2022-09-26T08:46:08.570Z"
   },
   {
    "duration": 10744,
    "start_time": "2022-09-26T08:46:09.105Z"
   },
   {
    "duration": 3,
    "start_time": "2022-09-26T08:46:19.854Z"
   },
   {
    "duration": 520,
    "start_time": "2022-09-26T08:46:19.859Z"
   },
   {
    "duration": 0,
    "start_time": "2022-09-26T08:46:20.380Z"
   },
   {
    "duration": 0,
    "start_time": "2022-09-26T08:46:20.382Z"
   },
   {
    "duration": 0,
    "start_time": "2022-09-26T08:46:20.383Z"
   },
   {
    "duration": 0,
    "start_time": "2022-09-26T08:46:20.385Z"
   },
   {
    "duration": 0,
    "start_time": "2022-09-26T08:46:20.387Z"
   },
   {
    "duration": 0,
    "start_time": "2022-09-26T08:46:20.388Z"
   },
   {
    "duration": 0,
    "start_time": "2022-09-26T08:46:20.390Z"
   },
   {
    "duration": 0,
    "start_time": "2022-09-26T08:46:20.392Z"
   },
   {
    "duration": 0,
    "start_time": "2022-09-26T08:46:20.393Z"
   },
   {
    "duration": 0,
    "start_time": "2022-09-26T08:46:20.394Z"
   },
   {
    "duration": 0,
    "start_time": "2022-09-26T08:46:20.409Z"
   },
   {
    "duration": 0,
    "start_time": "2022-09-26T08:46:20.411Z"
   },
   {
    "duration": 0,
    "start_time": "2022-09-26T08:46:20.412Z"
   },
   {
    "duration": 0,
    "start_time": "2022-09-26T08:46:20.414Z"
   },
   {
    "duration": 0,
    "start_time": "2022-09-26T08:46:20.415Z"
   },
   {
    "duration": 0,
    "start_time": "2022-09-26T08:46:20.417Z"
   },
   {
    "duration": 0,
    "start_time": "2022-09-26T08:46:20.418Z"
   },
   {
    "duration": 0,
    "start_time": "2022-09-26T08:46:20.421Z"
   },
   {
    "duration": 0,
    "start_time": "2022-09-26T08:46:20.422Z"
   },
   {
    "duration": 3,
    "start_time": "2022-09-26T08:49:21.453Z"
   },
   {
    "duration": 98,
    "start_time": "2022-09-26T08:49:21.669Z"
   },
   {
    "duration": 473,
    "start_time": "2022-09-26T08:49:22.294Z"
   },
   {
    "duration": 7,
    "start_time": "2022-09-26T08:49:23.341Z"
   },
   {
    "duration": 6,
    "start_time": "2022-09-26T08:49:24.004Z"
   },
   {
    "duration": 4,
    "start_time": "2022-09-26T08:49:24.534Z"
   },
   {
    "duration": 26,
    "start_time": "2022-09-26T08:49:25.983Z"
   },
   {
    "duration": 166,
    "start_time": "2022-09-26T08:49:32.525Z"
   },
   {
    "duration": 7,
    "start_time": "2022-09-26T08:49:36.023Z"
   },
   {
    "duration": 9,
    "start_time": "2022-09-26T08:49:38.141Z"
   },
   {
    "duration": 6,
    "start_time": "2022-09-26T08:49:39.088Z"
   },
   {
    "duration": 6,
    "start_time": "2022-09-26T08:50:07.048Z"
   },
   {
    "duration": 14,
    "start_time": "2022-09-26T08:50:11.106Z"
   },
   {
    "duration": 4,
    "start_time": "2022-09-26T08:50:37.422Z"
   },
   {
    "duration": 5,
    "start_time": "2022-09-26T08:51:01.537Z"
   },
   {
    "duration": 37,
    "start_time": "2022-09-26T08:51:51.827Z"
   },
   {
    "duration": 69,
    "start_time": "2022-09-26T08:52:30.072Z"
   },
   {
    "duration": 65,
    "start_time": "2022-09-26T08:52:58.652Z"
   },
   {
    "duration": 38,
    "start_time": "2022-09-26T08:53:03.722Z"
   },
   {
    "duration": 47,
    "start_time": "2022-09-26T08:53:24.713Z"
   },
   {
    "duration": 62,
    "start_time": "2022-09-26T08:53:29.205Z"
   },
   {
    "duration": 36,
    "start_time": "2022-09-26T08:53:39.473Z"
   },
   {
    "duration": 35,
    "start_time": "2022-09-26T08:55:47.438Z"
   },
   {
    "duration": 39,
    "start_time": "2022-09-26T08:55:51.906Z"
   },
   {
    "duration": 33,
    "start_time": "2022-09-26T08:56:06.149Z"
   },
   {
    "duration": 6132,
    "start_time": "2022-09-26T08:56:18.907Z"
   },
   {
    "duration": 751,
    "start_time": "2022-09-26T08:56:38.178Z"
   },
   {
    "duration": 914,
    "start_time": "2022-09-26T08:57:01.767Z"
   },
   {
    "duration": 77,
    "start_time": "2022-09-26T08:57:12.534Z"
   },
   {
    "duration": 736,
    "start_time": "2022-09-26T08:57:14.060Z"
   },
   {
    "duration": 5,
    "start_time": "2022-09-26T08:57:27.922Z"
   },
   {
    "duration": 4,
    "start_time": "2022-09-26T08:57:38.899Z"
   },
   {
    "duration": 903,
    "start_time": "2022-09-26T08:57:49.646Z"
   },
   {
    "duration": 3,
    "start_time": "2022-09-26T08:57:51.645Z"
   },
   {
    "duration": 840,
    "start_time": "2022-09-26T08:57:57.767Z"
   },
   {
    "duration": 1792,
    "start_time": "2022-09-26T08:58:32.041Z"
   },
   {
    "duration": 1666,
    "start_time": "2022-09-26T08:58:40.563Z"
   },
   {
    "duration": 1701,
    "start_time": "2022-09-26T08:58:54.067Z"
   },
   {
    "duration": 61,
    "start_time": "2022-09-26T08:59:22.253Z"
   },
   {
    "duration": 1663,
    "start_time": "2022-09-26T08:59:24.945Z"
   },
   {
    "duration": 1667,
    "start_time": "2022-09-26T08:59:27.333Z"
   },
   {
    "duration": 1703,
    "start_time": "2022-09-26T08:59:37.077Z"
   },
   {
    "duration": 1713,
    "start_time": "2022-09-26T08:59:44.077Z"
   },
   {
    "duration": 60,
    "start_time": "2022-09-26T08:59:57.620Z"
   },
   {
    "duration": 61,
    "start_time": "2022-09-26T09:00:19.930Z"
   },
   {
    "duration": 72,
    "start_time": "2022-09-26T09:00:23.818Z"
   },
   {
    "duration": 65,
    "start_time": "2022-09-26T09:00:30.814Z"
   },
   {
    "duration": 60,
    "start_time": "2022-09-26T09:00:31.965Z"
   },
   {
    "duration": 54,
    "start_time": "2022-09-26T09:01:09.648Z"
   },
   {
    "duration": 27,
    "start_time": "2022-09-26T09:01:13.915Z"
   },
   {
    "duration": 55,
    "start_time": "2022-09-26T09:03:33.226Z"
   },
   {
    "duration": 869,
    "start_time": "2022-09-26T09:03:55.127Z"
   },
   {
    "duration": 45,
    "start_time": "2022-09-26T09:04:30.152Z"
   },
   {
    "duration": 885,
    "start_time": "2022-09-26T09:04:46.027Z"
   },
   {
    "duration": 44,
    "start_time": "2022-09-26T09:04:47.936Z"
   },
   {
    "duration": 40,
    "start_time": "2022-09-26T09:06:28.630Z"
   },
   {
    "duration": 36,
    "start_time": "2022-09-26T09:06:50.279Z"
   },
   {
    "duration": 37,
    "start_time": "2022-09-26T09:07:09.624Z"
   },
   {
    "duration": 2137,
    "start_time": "2022-09-26T09:10:25.841Z"
   },
   {
    "duration": 1479,
    "start_time": "2022-09-26T09:10:31.520Z"
   }
  ],
  "kernelspec": {
   "display_name": "base",
   "language": "python",
   "name": "python3"
  },
  "language_info": {
   "codemirror_mode": {
    "name": "ipython",
    "version": 3
   },
   "file_extension": ".py",
   "mimetype": "text/x-python",
   "name": "python",
   "nbconvert_exporter": "python",
   "pygments_lexer": "ipython3",
   "version": "3.9.15 (main, Nov 24 2022, 08:29:02) \n[Clang 14.0.6 ]"
  },
  "toc": {
   "base_numbering": 1,
   "nav_menu": {},
   "number_sections": true,
   "sideBar": true,
   "skip_h1_title": true,
   "title_cell": "Содержание",
   "title_sidebar": "Contents",
   "toc_cell": true,
   "toc_position": {
    "height": "calc(100% - 180px)",
    "left": "10px",
    "top": "150px",
    "width": "302.391px"
   },
   "toc_section_display": true,
   "toc_window_display": false
  },
  "vscode": {
   "interpreter": {
    "hash": "09a07e8e5985c2d914ab6c4b9801f21b1d87911d40b439deb00afdd9c268753c"
   }
  }
 },
 "nbformat": 4,
 "nbformat_minor": 4
}
